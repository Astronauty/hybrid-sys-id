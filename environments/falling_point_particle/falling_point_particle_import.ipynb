{
 "cells": [
  {
   "cell_type": "code",
   "execution_count": null,
   "id": "f62289f9",
   "metadata": {},
   "outputs": [
    {
     "ename": "ModuleNotFoundError",
     "evalue": "No module named 'torchvision'",
     "output_type": "error",
     "traceback": [
      "\u001b[0;31m---------------------------------------------------------------------------\u001b[0m",
      "\u001b[0;31mModuleNotFoundError\u001b[0m                       Traceback (most recent call last)",
      "Cell \u001b[0;32mIn[16], line 6\u001b[0m\n\u001b[1;32m      4\u001b[0m \u001b[38;5;28;01mimport\u001b[39;00m\u001b[38;5;250m \u001b[39m\u001b[38;5;21;01mnumpy\u001b[39;00m\u001b[38;5;250m \u001b[39m\u001b[38;5;28;01mas\u001b[39;00m\u001b[38;5;250m \u001b[39m\u001b[38;5;21;01mnp\u001b[39;00m\n\u001b[1;32m      5\u001b[0m \u001b[38;5;28;01mimport\u001b[39;00m\u001b[38;5;250m \u001b[39m\u001b[38;5;21;01mtorch\u001b[39;00m\n\u001b[0;32m----> 6\u001b[0m \u001b[38;5;28;01mfrom\u001b[39;00m\u001b[38;5;250m \u001b[39m\u001b[38;5;21;01mtorchvision\u001b[39;00m\u001b[38;5;250m \u001b[39m\u001b[38;5;28;01mimport\u001b[39;00m datasets\n\u001b[1;32m      7\u001b[0m \u001b[38;5;28;01mfrom\u001b[39;00m\u001b[38;5;250m \u001b[39m\u001b[38;5;21;01mtorchvision\u001b[39;00m\u001b[38;5;21;01m.\u001b[39;00m\u001b[38;5;21;01mtransforms\u001b[39;00m\u001b[38;5;250m \u001b[39m\u001b[38;5;28;01mimport\u001b[39;00m ToTensor\n",
      "\u001b[0;31mModuleNotFoundError\u001b[0m: No module named 'torchvision'"
     ]
    }
   ],
   "source": [
    "import scipy.io\n",
    "import plotly.graph_objects as go\n",
    "import plotly.express as px\n",
    "import numpy as np\n",
    "import torch\n",
    "# from torchvision import datasets\n",
    "# from torchvision.transforms import ToTensor"
   ]
  },
  {
   "cell_type": "code",
   "execution_count": null,
   "id": "4dadf8ef",
   "metadata": {},
   "outputs": [],
   "source": [
    "data = scipy.io.loadmat('xout.mat')\n",
    "x = data['xout']\n",
    "\n",
    "\n",
    "class HybridSysIDDataset(torch.data):"
   ]
  },
  {
   "cell_type": "code",
   "execution_count": 11,
   "id": "a3cb0ce6",
   "metadata": {},
   "outputs": [
    {
     "data": {
      "application/vnd.plotly.v1+json": {
       "config": {
        "plotlyServerURL": "https://plot.ly"
       },
       "data": [
        {
         "line": {
          "color": "blue",
          "width": 2
         },
         "marker": {
          "size": 4
         },
         "mode": "lines+markers",
         "name": "Particle Trajectory",
         "type": "scatter",
         "x": {
          "bdata": "AAAAAAAA8D8AAAAAAADwPwAAAAAAAPA/AAAAAAAA8D8AAAAAAADwPwAAAAAAAPA/AAAAAAAA8D8AAAAAAADwPwAAAAAAAPA/AAAAAAAA8D8AAAAAAADwPwAAAAAAAPA/AAAAAAAA8D8AAAAAAADwPwAAAAAAAPA/AAAAAAAA8D8AAAAAAADwPwAAAAAAAPA/AAAAAAAA8D8AAAAAAADwPwAAAAAAAPA/AAAAAAAA8D8AAAAAAADwPwAAAAAAAPA/AAAAAAAA8D8AAAAAAADwPwAAAAAAAPA/AAAAAAAA8D8AAAAAAADwPwAAAAAAAPA/AAAAAAAA8D8AAAAAAADwPwAAAAAAAPA/AAAAAAAA8D8AAAAAAADwPwAAAAAAAPA/AAAAAAAA8D8AAAAAAADwPwAAAAAAAPA/AAAAAAAA8D8AAAAAAADwPwAAAAAAAPA/AAAAAAAA8D8AAAAAAADwPwAAAAAAAPA/AAAAAAAA8D8AAAAAAADwPwAAAAAAAPA/AAAAAAAA8D8AAAAAAADwPwAAAAAAAPA/AAAAAAAA8D8AAAAAAADwPwAAAAAAAPA/AAAAAAAA8D8AAAAAAADwPwAAAAAAAPA/AAAAAAAA8D8AAAAAAADwPwAAAAAAAPA/AAAAAAAA8D8AAAAAAADwPwAAAAAAAPA/AAAAAAAA8D8AAAAAAADwPwAAAAAAAPA/AAAAAAAA8D8AAAAAAADwPwAAAAAAAPA/AAAAAAAA8D8AAAAAAADwPwAAAAAAAPA/AAAAAAAA8D8AAAAAAADwPwAAAAAAAPA/AAAAAAAA8D8AAAAAAADwPwAAAAAAAPA/AAAAAAAA8D8AAAAAAADwP2g+X/rpxe4/0Hy+9NOL7T85ux3vvVHsP6L5fOmnF+s/Cjjc45Hd6T9ydjvee6PoP9q0mthlaec/RvP50k8v5j+vMVnNOfXkPxhwuMcju+M/ga4Xwg2B4j/o7Ha890bhP1Ir1rbhDOA/dtNqYpel3T9EUClXazHbPxPN50s/vdg/5EmmQBNJ1j+8xmQ159TTP41DIyq7YNE/vYDDPR7ZzT9hekAnxvDIPwB0vRBuCMQ/SNt09CtAvj+Uzm7He2+0P5iD0TSXPaU/AKFWrG3DaT9pr0Z/KQWiv3BkqexE07K/KnGvGfWjvL/2vlqjUjrDv07F3bmqIsi/rctg0AILzb8D6XFzrfnQvy9ss37ZbdO/Xe/0iQXi1b9/hxYLddPXv64KWBahR9q/3Y2ZIc273L8MEdss+S/fvx1KDpwS0uC/tQuvoSgM4r9NzU+nPkbjv+WO8KxUgOS/fFCRsmq65b8TEjK4gPTmv6vT0r2WLui/QpVzw6xo6b/TVhTJwqLqv3IYtc7Y3Ou/ANpV1O4W7b+Xm/bZBFHuvzJdl98ai++/////////77+EY7iahE3wv0QtEWgHmfC/QV0KaIji8L9786OaByrxv/Hv3f+Eb/G/o1K4lwCz8b+SGzNievTxv71KTl/yM/K/JeAJj2hx8r/K22Xx3Kzyv6o9YoZP5vK/xwX/TcAd878gNDxIL1Pzv7fIGXWchvO/iMOX1Ae487+YJLZmcefzv+PrdCvZFPS/ahnUIj9A9L8vrdNMo2n0vzCnc6kFkfS/bQe0OGa29L/nzZT6xNn0v536Fe8h+/S/kI03Fn0a9b+/hvlv1jf1vyvmW/wtU/W/0qteu4Ns9b+31wGt14P1v9hpRdEpmfW/NWIpKHqs9b/PwK2xyL31v6WF0m0VzfW/uLCXXGDa9b8HQv19qeX1v5M5A9Lw7vW/W5epWDb29b9fW/ARevv1v6CF1/27/vW/HhZfHPz/9b/YDIdtOv/1v85pT/F2/PW/AS24p7H39b9xVsGQ6vD1vxzmaqwh6PW/Bdy0+lbd9b8pOJ97itD1v4r6KS+8wfW/KCNVFeyw9b8CsiAuGp71vxmnjHlGifW/awKZ93By9b/7w0WomVn1v8frkovAPvW/z3mAoeUh9b8Ubg7qCAP1v5XIPGUq4vS/U4kLE0q/9L9NsHrzZ5r0v4Q9igaEc/S/9jA6TJ5K9L+miorEth/0v5FKe2/N8vO/u3AMTeLD878f/T1d9ZLzv8HvD6AGYPO/nkiCFRYr87+6B5W9I/Tyvw8tSJgvu/K/oribpTmA8r9wqo/lQUPyv34CJFhIBPK/xcBY/UzD8b9L5S3VT4Dxvw5wo99QO/G/C2G5HFD08L9DuG+MTavwv7x1xi5JYPC/cZm9A0MT8L8b/v/////vv0edL/30Yu+/azxf+unF7r+W24733ijuv7t6vvTTi+2/5hnu8cju7L8KuR3vvVHsvzZYTeyytOu/Wfd86acX67+FlqzmnHrqv6k13OOR3em/1dQL4YZA6b/5czvee6PovyUTa9twBui/SLKa2GVp5790UcrVWszmv5jw+dJPL+a/xI8p0ESS5b/nLlnNOfXkvxPOiMouWOS/N224xyO7479jDOjEGB7jv4erF8INgeK/s0pHvwLk4b/g6Xa890bhvwKJprnsqeC/JijWtuEM4L+jjgtord/ev/rMamKXpd2/QgvKXIFr3L+ZSSlXazHbv+KHiFFV99m/OsbnSz+92L+CBEdGKYPXv9xCpkATSda/IYEFO/0O1b93v2Q159TTv7/9wy/RmtK/FjwjKrtg0b9eeoIkpSbQv2pxwz0e2c2//O2BMvJky7+sakAnxvDIvzzn/huafMa/72O9EG4IxL964HsFQpTBv0u6dPQrQL6/arPx3dNXub/HrG7He2+0v0hM12FHDq+/hj7RNJc9pb+YYZYPztmWv6A4Uqxtw2m/eNOBpPJokD9o90Z/KQWiPzwFTazZ1as/R4mp7ETTsj/qjywDnbu3P8uWrxn1o7w/t04ZmCbGwD8o0lqjUjrDP3lVnK5+rsU/5tjduaoiyD84XB/F1pbKP6PfYNACC80/+2Ki2y5/zz8383FzrfnQP+C0EnnDM9I/mHazftlt0z9AOFSE76fUP/n59IkF4tU/oruVjxsc1z9YfTaVMVbYPwE/15pHkNk/qwB4oF3K2j9iwhimcwTcPxuEuauJPt0/xEVasZ943j9sB/u2tbLfP5LkTd5lduA/bkUe4XAT4T9Dpu7je7DhPxYHv+aGTeI/8meP6ZHq4j/IyF/snIfjP6MpMO+nJOQ/eIoA8rLB5D9U69D0vV7lPyhMoffI++U/BK1x+tOY5j/ZDUL93jXnP7VuEgDq0uc/iM/iAvVv6D9kMLMFAA3pPzqRgwgLquk/FfJTCxZH6j/qUiQOIeTqP8az9BAsges/mhTFEzce7D9udZUWQrvsP0rWZRlNWO0/Jjc2HFj17T/6lwYfY5LuP8741iFuL+8/qFmnJHnM7z/nAQAAAADwPw==",
          "dtype": "f8"
         },
         "y": {
          "bdata": "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",
          "dtype": "f8"
         }
        }
       ],
       "layout": {
        "template": {
         "data": {
          "bar": [
           {
            "error_x": {
             "color": "#2a3f5f"
            },
            "error_y": {
             "color": "#2a3f5f"
            },
            "marker": {
             "line": {
              "color": "#E5ECF6",
              "width": 0.5
             },
             "pattern": {
              "fillmode": "overlay",
              "size": 10,
              "solidity": 0.2
             }
            },
            "type": "bar"
           }
          ],
          "barpolar": [
           {
            "marker": {
             "line": {
              "color": "#E5ECF6",
              "width": 0.5
             },
             "pattern": {
              "fillmode": "overlay",
              "size": 10,
              "solidity": 0.2
             }
            },
            "type": "barpolar"
           }
          ],
          "carpet": [
           {
            "aaxis": {
             "endlinecolor": "#2a3f5f",
             "gridcolor": "white",
             "linecolor": "white",
             "minorgridcolor": "white",
             "startlinecolor": "#2a3f5f"
            },
            "baxis": {
             "endlinecolor": "#2a3f5f",
             "gridcolor": "white",
             "linecolor": "white",
             "minorgridcolor": "white",
             "startlinecolor": "#2a3f5f"
            },
            "type": "carpet"
           }
          ],
          "choropleth": [
           {
            "colorbar": {
             "outlinewidth": 0,
             "ticks": ""
            },
            "type": "choropleth"
           }
          ],
          "contour": [
           {
            "colorbar": {
             "outlinewidth": 0,
             "ticks": ""
            },
            "colorscale": [
             [
              0,
              "#0d0887"
             ],
             [
              0.1111111111111111,
              "#46039f"
             ],
             [
              0.2222222222222222,
              "#7201a8"
             ],
             [
              0.3333333333333333,
              "#9c179e"
             ],
             [
              0.4444444444444444,
              "#bd3786"
             ],
             [
              0.5555555555555556,
              "#d8576b"
             ],
             [
              0.6666666666666666,
              "#ed7953"
             ],
             [
              0.7777777777777778,
              "#fb9f3a"
             ],
             [
              0.8888888888888888,
              "#fdca26"
             ],
             [
              1,
              "#f0f921"
             ]
            ],
            "type": "contour"
           }
          ],
          "contourcarpet": [
           {
            "colorbar": {
             "outlinewidth": 0,
             "ticks": ""
            },
            "type": "contourcarpet"
           }
          ],
          "heatmap": [
           {
            "colorbar": {
             "outlinewidth": 0,
             "ticks": ""
            },
            "colorscale": [
             [
              0,
              "#0d0887"
             ],
             [
              0.1111111111111111,
              "#46039f"
             ],
             [
              0.2222222222222222,
              "#7201a8"
             ],
             [
              0.3333333333333333,
              "#9c179e"
             ],
             [
              0.4444444444444444,
              "#bd3786"
             ],
             [
              0.5555555555555556,
              "#d8576b"
             ],
             [
              0.6666666666666666,
              "#ed7953"
             ],
             [
              0.7777777777777778,
              "#fb9f3a"
             ],
             [
              0.8888888888888888,
              "#fdca26"
             ],
             [
              1,
              "#f0f921"
             ]
            ],
            "type": "heatmap"
           }
          ],
          "histogram": [
           {
            "marker": {
             "pattern": {
              "fillmode": "overlay",
              "size": 10,
              "solidity": 0.2
             }
            },
            "type": "histogram"
           }
          ],
          "histogram2d": [
           {
            "colorbar": {
             "outlinewidth": 0,
             "ticks": ""
            },
            "colorscale": [
             [
              0,
              "#0d0887"
             ],
             [
              0.1111111111111111,
              "#46039f"
             ],
             [
              0.2222222222222222,
              "#7201a8"
             ],
             [
              0.3333333333333333,
              "#9c179e"
             ],
             [
              0.4444444444444444,
              "#bd3786"
             ],
             [
              0.5555555555555556,
              "#d8576b"
             ],
             [
              0.6666666666666666,
              "#ed7953"
             ],
             [
              0.7777777777777778,
              "#fb9f3a"
             ],
             [
              0.8888888888888888,
              "#fdca26"
             ],
             [
              1,
              "#f0f921"
             ]
            ],
            "type": "histogram2d"
           }
          ],
          "histogram2dcontour": [
           {
            "colorbar": {
             "outlinewidth": 0,
             "ticks": ""
            },
            "colorscale": [
             [
              0,
              "#0d0887"
             ],
             [
              0.1111111111111111,
              "#46039f"
             ],
             [
              0.2222222222222222,
              "#7201a8"
             ],
             [
              0.3333333333333333,
              "#9c179e"
             ],
             [
              0.4444444444444444,
              "#bd3786"
             ],
             [
              0.5555555555555556,
              "#d8576b"
             ],
             [
              0.6666666666666666,
              "#ed7953"
             ],
             [
              0.7777777777777778,
              "#fb9f3a"
             ],
             [
              0.8888888888888888,
              "#fdca26"
             ],
             [
              1,
              "#f0f921"
             ]
            ],
            "type": "histogram2dcontour"
           }
          ],
          "mesh3d": [
           {
            "colorbar": {
             "outlinewidth": 0,
             "ticks": ""
            },
            "type": "mesh3d"
           }
          ],
          "parcoords": [
           {
            "line": {
             "colorbar": {
              "outlinewidth": 0,
              "ticks": ""
             }
            },
            "type": "parcoords"
           }
          ],
          "pie": [
           {
            "automargin": true,
            "type": "pie"
           }
          ],
          "scatter": [
           {
            "fillpattern": {
             "fillmode": "overlay",
             "size": 10,
             "solidity": 0.2
            },
            "type": "scatter"
           }
          ],
          "scatter3d": [
           {
            "line": {
             "colorbar": {
              "outlinewidth": 0,
              "ticks": ""
             }
            },
            "marker": {
             "colorbar": {
              "outlinewidth": 0,
              "ticks": ""
             }
            },
            "type": "scatter3d"
           }
          ],
          "scattercarpet": [
           {
            "marker": {
             "colorbar": {
              "outlinewidth": 0,
              "ticks": ""
             }
            },
            "type": "scattercarpet"
           }
          ],
          "scattergeo": [
           {
            "marker": {
             "colorbar": {
              "outlinewidth": 0,
              "ticks": ""
             }
            },
            "type": "scattergeo"
           }
          ],
          "scattergl": [
           {
            "marker": {
             "colorbar": {
              "outlinewidth": 0,
              "ticks": ""
             }
            },
            "type": "scattergl"
           }
          ],
          "scattermap": [
           {
            "marker": {
             "colorbar": {
              "outlinewidth": 0,
              "ticks": ""
             }
            },
            "type": "scattermap"
           }
          ],
          "scattermapbox": [
           {
            "marker": {
             "colorbar": {
              "outlinewidth": 0,
              "ticks": ""
             }
            },
            "type": "scattermapbox"
           }
          ],
          "scatterpolar": [
           {
            "marker": {
             "colorbar": {
              "outlinewidth": 0,
              "ticks": ""
             }
            },
            "type": "scatterpolar"
           }
          ],
          "scatterpolargl": [
           {
            "marker": {
             "colorbar": {
              "outlinewidth": 0,
              "ticks": ""
             }
            },
            "type": "scatterpolargl"
           }
          ],
          "scatterternary": [
           {
            "marker": {
             "colorbar": {
              "outlinewidth": 0,
              "ticks": ""
             }
            },
            "type": "scatterternary"
           }
          ],
          "surface": [
           {
            "colorbar": {
             "outlinewidth": 0,
             "ticks": ""
            },
            "colorscale": [
             [
              0,
              "#0d0887"
             ],
             [
              0.1111111111111111,
              "#46039f"
             ],
             [
              0.2222222222222222,
              "#7201a8"
             ],
             [
              0.3333333333333333,
              "#9c179e"
             ],
             [
              0.4444444444444444,
              "#bd3786"
             ],
             [
              0.5555555555555556,
              "#d8576b"
             ],
             [
              0.6666666666666666,
              "#ed7953"
             ],
             [
              0.7777777777777778,
              "#fb9f3a"
             ],
             [
              0.8888888888888888,
              "#fdca26"
             ],
             [
              1,
              "#f0f921"
             ]
            ],
            "type": "surface"
           }
          ],
          "table": [
           {
            "cells": {
             "fill": {
              "color": "#EBF0F8"
             },
             "line": {
              "color": "white"
             }
            },
            "header": {
             "fill": {
              "color": "#C8D4E3"
             },
             "line": {
              "color": "white"
             }
            },
            "type": "table"
           }
          ]
         },
         "layout": {
          "annotationdefaults": {
           "arrowcolor": "#2a3f5f",
           "arrowhead": 0,
           "arrowwidth": 1
          },
          "autotypenumbers": "strict",
          "coloraxis": {
           "colorbar": {
            "outlinewidth": 0,
            "ticks": ""
           }
          },
          "colorscale": {
           "diverging": [
            [
             0,
             "#8e0152"
            ],
            [
             0.1,
             "#c51b7d"
            ],
            [
             0.2,
             "#de77ae"
            ],
            [
             0.3,
             "#f1b6da"
            ],
            [
             0.4,
             "#fde0ef"
            ],
            [
             0.5,
             "#f7f7f7"
            ],
            [
             0.6,
             "#e6f5d0"
            ],
            [
             0.7,
             "#b8e186"
            ],
            [
             0.8,
             "#7fbc41"
            ],
            [
             0.9,
             "#4d9221"
            ],
            [
             1,
             "#276419"
            ]
           ],
           "sequential": [
            [
             0,
             "#0d0887"
            ],
            [
             0.1111111111111111,
             "#46039f"
            ],
            [
             0.2222222222222222,
             "#7201a8"
            ],
            [
             0.3333333333333333,
             "#9c179e"
            ],
            [
             0.4444444444444444,
             "#bd3786"
            ],
            [
             0.5555555555555556,
             "#d8576b"
            ],
            [
             0.6666666666666666,
             "#ed7953"
            ],
            [
             0.7777777777777778,
             "#fb9f3a"
            ],
            [
             0.8888888888888888,
             "#fdca26"
            ],
            [
             1,
             "#f0f921"
            ]
           ],
           "sequentialminus": [
            [
             0,
             "#0d0887"
            ],
            [
             0.1111111111111111,
             "#46039f"
            ],
            [
             0.2222222222222222,
             "#7201a8"
            ],
            [
             0.3333333333333333,
             "#9c179e"
            ],
            [
             0.4444444444444444,
             "#bd3786"
            ],
            [
             0.5555555555555556,
             "#d8576b"
            ],
            [
             0.6666666666666666,
             "#ed7953"
            ],
            [
             0.7777777777777778,
             "#fb9f3a"
            ],
            [
             0.8888888888888888,
             "#fdca26"
            ],
            [
             1,
             "#f0f921"
            ]
           ]
          },
          "colorway": [
           "#636efa",
           "#EF553B",
           "#00cc96",
           "#ab63fa",
           "#FFA15A",
           "#19d3f3",
           "#FF6692",
           "#B6E880",
           "#FF97FF",
           "#FECB52"
          ],
          "font": {
           "color": "#2a3f5f"
          },
          "geo": {
           "bgcolor": "white",
           "lakecolor": "white",
           "landcolor": "#E5ECF6",
           "showlakes": true,
           "showland": true,
           "subunitcolor": "white"
          },
          "hoverlabel": {
           "align": "left"
          },
          "hovermode": "closest",
          "mapbox": {
           "style": "light"
          },
          "paper_bgcolor": "white",
          "plot_bgcolor": "#E5ECF6",
          "polar": {
           "angularaxis": {
            "gridcolor": "white",
            "linecolor": "white",
            "ticks": ""
           },
           "bgcolor": "#E5ECF6",
           "radialaxis": {
            "gridcolor": "white",
            "linecolor": "white",
            "ticks": ""
           }
          },
          "scene": {
           "xaxis": {
            "backgroundcolor": "#E5ECF6",
            "gridcolor": "white",
            "gridwidth": 2,
            "linecolor": "white",
            "showbackground": true,
            "ticks": "",
            "zerolinecolor": "white"
           },
           "yaxis": {
            "backgroundcolor": "#E5ECF6",
            "gridcolor": "white",
            "gridwidth": 2,
            "linecolor": "white",
            "showbackground": true,
            "ticks": "",
            "zerolinecolor": "white"
           },
           "zaxis": {
            "backgroundcolor": "#E5ECF6",
            "gridcolor": "white",
            "gridwidth": 2,
            "linecolor": "white",
            "showbackground": true,
            "ticks": "",
            "zerolinecolor": "white"
           }
          },
          "shapedefaults": {
           "line": {
            "color": "#2a3f5f"
           }
          },
          "ternary": {
           "aaxis": {
            "gridcolor": "white",
            "linecolor": "white",
            "ticks": ""
           },
           "baxis": {
            "gridcolor": "white",
            "linecolor": "white",
            "ticks": ""
           },
           "bgcolor": "#E5ECF6",
           "caxis": {
            "gridcolor": "white",
            "linecolor": "white",
            "ticks": ""
           }
          },
          "title": {
           "x": 0.05
          },
          "xaxis": {
           "automargin": true,
           "gridcolor": "white",
           "linecolor": "white",
           "ticks": "",
           "title": {
            "standoff": 15
           },
           "zerolinecolor": "white",
           "zerolinewidth": 2
          },
          "yaxis": {
           "automargin": true,
           "gridcolor": "white",
           "linecolor": "white",
           "ticks": "",
           "title": {
            "standoff": 15
           },
           "zerolinecolor": "white",
           "zerolinewidth": 2
          }
         }
        }
       }
      }
     },
     "metadata": {},
     "output_type": "display_data"
    }
   ],
   "source": [
    "data = scipy.io.loadmat('xout.mat')\n",
    "x = data['xout']\n",
    "\n",
    "fig = go.Figure()\n",
    "\n",
    "fig.add_trace(go.Scatter(\n",
    "    x = x[:, 0],\n",
    "    y = x[:, 1],\n",
    "    mode='lines+markers',\n",
    "    name='Particle Trajectory',\n",
    "    line=dict(width=2, color='blue'),\n",
    "    marker=dict(size=4)\n",
    "))\n"
   ]
  },
  {
   "cell_type": "code",
   "execution_count": null,
   "id": "4f443ac6",
   "metadata": {},
   "outputs": [
    {
     "data": {
      "application/vnd.plotly.v1+json": {
       "config": {
        "plotlyServerURL": "https://plot.ly"
       },
       "data": [
        {
         "hovertemplate": "x=%{x}<br>y=%{y}<extra></extra>",
         "legendgroup": "",
         "marker": {
          "color": "#636efa",
          "symbol": "circle"
         },
         "mode": "markers",
         "name": "",
         "orientation": "v",
         "showlegend": false,
         "type": "scatter",
         "x": {
          "bdata": "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",
          "dtype": "f8"
         },
         "xaxis": "x",
         "y": {
          "bdata": "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",
          "dtype": "f8"
         },
         "yaxis": "y"
        }
       ],
       "layout": {
        "legend": {
         "tracegroupgap": 0
        },
        "template": {
         "data": {
          "bar": [
           {
            "error_x": {
             "color": "#2a3f5f"
            },
            "error_y": {
             "color": "#2a3f5f"
            },
            "marker": {
             "line": {
              "color": "#E5ECF6",
              "width": 0.5
             },
             "pattern": {
              "fillmode": "overlay",
              "size": 10,
              "solidity": 0.2
             }
            },
            "type": "bar"
           }
          ],
          "barpolar": [
           {
            "marker": {
             "line": {
              "color": "#E5ECF6",
              "width": 0.5
             },
             "pattern": {
              "fillmode": "overlay",
              "size": 10,
              "solidity": 0.2
             }
            },
            "type": "barpolar"
           }
          ],
          "carpet": [
           {
            "aaxis": {
             "endlinecolor": "#2a3f5f",
             "gridcolor": "white",
             "linecolor": "white",
             "minorgridcolor": "white",
             "startlinecolor": "#2a3f5f"
            },
            "baxis": {
             "endlinecolor": "#2a3f5f",
             "gridcolor": "white",
             "linecolor": "white",
             "minorgridcolor": "white",
             "startlinecolor": "#2a3f5f"
            },
            "type": "carpet"
           }
          ],
          "choropleth": [
           {
            "colorbar": {
             "outlinewidth": 0,
             "ticks": ""
            },
            "type": "choropleth"
           }
          ],
          "contour": [
           {
            "colorbar": {
             "outlinewidth": 0,
             "ticks": ""
            },
            "colorscale": [
             [
              0,
              "#0d0887"
             ],
             [
              0.1111111111111111,
              "#46039f"
             ],
             [
              0.2222222222222222,
              "#7201a8"
             ],
             [
              0.3333333333333333,
              "#9c179e"
             ],
             [
              0.4444444444444444,
              "#bd3786"
             ],
             [
              0.5555555555555556,
              "#d8576b"
             ],
             [
              0.6666666666666666,
              "#ed7953"
             ],
             [
              0.7777777777777778,
              "#fb9f3a"
             ],
             [
              0.8888888888888888,
              "#fdca26"
             ],
             [
              1,
              "#f0f921"
             ]
            ],
            "type": "contour"
           }
          ],
          "contourcarpet": [
           {
            "colorbar": {
             "outlinewidth": 0,
             "ticks": ""
            },
            "type": "contourcarpet"
           }
          ],
          "heatmap": [
           {
            "colorbar": {
             "outlinewidth": 0,
             "ticks": ""
            },
            "colorscale": [
             [
              0,
              "#0d0887"
             ],
             [
              0.1111111111111111,
              "#46039f"
             ],
             [
              0.2222222222222222,
              "#7201a8"
             ],
             [
              0.3333333333333333,
              "#9c179e"
             ],
             [
              0.4444444444444444,
              "#bd3786"
             ],
             [
              0.5555555555555556,
              "#d8576b"
             ],
             [
              0.6666666666666666,
              "#ed7953"
             ],
             [
              0.7777777777777778,
              "#fb9f3a"
             ],
             [
              0.8888888888888888,
              "#fdca26"
             ],
             [
              1,
              "#f0f921"
             ]
            ],
            "type": "heatmap"
           }
          ],
          "histogram": [
           {
            "marker": {
             "pattern": {
              "fillmode": "overlay",
              "size": 10,
              "solidity": 0.2
             }
            },
            "type": "histogram"
           }
          ],
          "histogram2d": [
           {
            "colorbar": {
             "outlinewidth": 0,
             "ticks": ""
            },
            "colorscale": [
             [
              0,
              "#0d0887"
             ],
             [
              0.1111111111111111,
              "#46039f"
             ],
             [
              0.2222222222222222,
              "#7201a8"
             ],
             [
              0.3333333333333333,
              "#9c179e"
             ],
             [
              0.4444444444444444,
              "#bd3786"
             ],
             [
              0.5555555555555556,
              "#d8576b"
             ],
             [
              0.6666666666666666,
              "#ed7953"
             ],
             [
              0.7777777777777778,
              "#fb9f3a"
             ],
             [
              0.8888888888888888,
              "#fdca26"
             ],
             [
              1,
              "#f0f921"
             ]
            ],
            "type": "histogram2d"
           }
          ],
          "histogram2dcontour": [
           {
            "colorbar": {
             "outlinewidth": 0,
             "ticks": ""
            },
            "colorscale": [
             [
              0,
              "#0d0887"
             ],
             [
              0.1111111111111111,
              "#46039f"
             ],
             [
              0.2222222222222222,
              "#7201a8"
             ],
             [
              0.3333333333333333,
              "#9c179e"
             ],
             [
              0.4444444444444444,
              "#bd3786"
             ],
             [
              0.5555555555555556,
              "#d8576b"
             ],
             [
              0.6666666666666666,
              "#ed7953"
             ],
             [
              0.7777777777777778,
              "#fb9f3a"
             ],
             [
              0.8888888888888888,
              "#fdca26"
             ],
             [
              1,
              "#f0f921"
             ]
            ],
            "type": "histogram2dcontour"
           }
          ],
          "mesh3d": [
           {
            "colorbar": {
             "outlinewidth": 0,
             "ticks": ""
            },
            "type": "mesh3d"
           }
          ],
          "parcoords": [
           {
            "line": {
             "colorbar": {
              "outlinewidth": 0,
              "ticks": ""
             }
            },
            "type": "parcoords"
           }
          ],
          "pie": [
           {
            "automargin": true,
            "type": "pie"
           }
          ],
          "scatter": [
           {
            "fillpattern": {
             "fillmode": "overlay",
             "size": 10,
             "solidity": 0.2
            },
            "type": "scatter"
           }
          ],
          "scatter3d": [
           {
            "line": {
             "colorbar": {
              "outlinewidth": 0,
              "ticks": ""
             }
            },
            "marker": {
             "colorbar": {
              "outlinewidth": 0,
              "ticks": ""
             }
            },
            "type": "scatter3d"
           }
          ],
          "scattercarpet": [
           {
            "marker": {
             "colorbar": {
              "outlinewidth": 0,
              "ticks": ""
             }
            },
            "type": "scattercarpet"
           }
          ],
          "scattergeo": [
           {
            "marker": {
             "colorbar": {
              "outlinewidth": 0,
              "ticks": ""
             }
            },
            "type": "scattergeo"
           }
          ],
          "scattergl": [
           {
            "marker": {
             "colorbar": {
              "outlinewidth": 0,
              "ticks": ""
             }
            },
            "type": "scattergl"
           }
          ],
          "scattermap": [
           {
            "marker": {
             "colorbar": {
              "outlinewidth": 0,
              "ticks": ""
             }
            },
            "type": "scattermap"
           }
          ],
          "scattermapbox": [
           {
            "marker": {
             "colorbar": {
              "outlinewidth": 0,
              "ticks": ""
             }
            },
            "type": "scattermapbox"
           }
          ],
          "scatterpolar": [
           {
            "marker": {
             "colorbar": {
              "outlinewidth": 0,
              "ticks": ""
             }
            },
            "type": "scatterpolar"
           }
          ],
          "scatterpolargl": [
           {
            "marker": {
             "colorbar": {
              "outlinewidth": 0,
              "ticks": ""
             }
            },
            "type": "scatterpolargl"
           }
          ],
          "scatterternary": [
           {
            "marker": {
             "colorbar": {
              "outlinewidth": 0,
              "ticks": ""
             }
            },
            "type": "scatterternary"
           }
          ],
          "surface": [
           {
            "colorbar": {
             "outlinewidth": 0,
             "ticks": ""
            },
            "colorscale": [
             [
              0,
              "#0d0887"
             ],
             [
              0.1111111111111111,
              "#46039f"
             ],
             [
              0.2222222222222222,
              "#7201a8"
             ],
             [
              0.3333333333333333,
              "#9c179e"
             ],
             [
              0.4444444444444444,
              "#bd3786"
             ],
             [
              0.5555555555555556,
              "#d8576b"
             ],
             [
              0.6666666666666666,
              "#ed7953"
             ],
             [
              0.7777777777777778,
              "#fb9f3a"
             ],
             [
              0.8888888888888888,
              "#fdca26"
             ],
             [
              1,
              "#f0f921"
             ]
            ],
            "type": "surface"
           }
          ],
          "table": [
           {
            "cells": {
             "fill": {
              "color": "#EBF0F8"
             },
             "line": {
              "color": "white"
             }
            },
            "header": {
             "fill": {
              "color": "#C8D4E3"
             },
             "line": {
              "color": "white"
             }
            },
            "type": "table"
           }
          ]
         },
         "layout": {
          "annotationdefaults": {
           "arrowcolor": "#2a3f5f",
           "arrowhead": 0,
           "arrowwidth": 1
          },
          "autotypenumbers": "strict",
          "coloraxis": {
           "colorbar": {
            "outlinewidth": 0,
            "ticks": ""
           }
          },
          "colorscale": {
           "diverging": [
            [
             0,
             "#8e0152"
            ],
            [
             0.1,
             "#c51b7d"
            ],
            [
             0.2,
             "#de77ae"
            ],
            [
             0.3,
             "#f1b6da"
            ],
            [
             0.4,
             "#fde0ef"
            ],
            [
             0.5,
             "#f7f7f7"
            ],
            [
             0.6,
             "#e6f5d0"
            ],
            [
             0.7,
             "#b8e186"
            ],
            [
             0.8,
             "#7fbc41"
            ],
            [
             0.9,
             "#4d9221"
            ],
            [
             1,
             "#276419"
            ]
           ],
           "sequential": [
            [
             0,
             "#0d0887"
            ],
            [
             0.1111111111111111,
             "#46039f"
            ],
            [
             0.2222222222222222,
             "#7201a8"
            ],
            [
             0.3333333333333333,
             "#9c179e"
            ],
            [
             0.4444444444444444,
             "#bd3786"
            ],
            [
             0.5555555555555556,
             "#d8576b"
            ],
            [
             0.6666666666666666,
             "#ed7953"
            ],
            [
             0.7777777777777778,
             "#fb9f3a"
            ],
            [
             0.8888888888888888,
             "#fdca26"
            ],
            [
             1,
             "#f0f921"
            ]
           ],
           "sequentialminus": [
            [
             0,
             "#0d0887"
            ],
            [
             0.1111111111111111,
             "#46039f"
            ],
            [
             0.2222222222222222,
             "#7201a8"
            ],
            [
             0.3333333333333333,
             "#9c179e"
            ],
            [
             0.4444444444444444,
             "#bd3786"
            ],
            [
             0.5555555555555556,
             "#d8576b"
            ],
            [
             0.6666666666666666,
             "#ed7953"
            ],
            [
             0.7777777777777778,
             "#fb9f3a"
            ],
            [
             0.8888888888888888,
             "#fdca26"
            ],
            [
             1,
             "#f0f921"
            ]
           ]
          },
          "colorway": [
           "#636efa",
           "#EF553B",
           "#00cc96",
           "#ab63fa",
           "#FFA15A",
           "#19d3f3",
           "#FF6692",
           "#B6E880",
           "#FF97FF",
           "#FECB52"
          ],
          "font": {
           "color": "#2a3f5f"
          },
          "geo": {
           "bgcolor": "white",
           "lakecolor": "white",
           "landcolor": "#E5ECF6",
           "showlakes": true,
           "showland": true,
           "subunitcolor": "white"
          },
          "hoverlabel": {
           "align": "left"
          },
          "hovermode": "closest",
          "mapbox": {
           "style": "light"
          },
          "paper_bgcolor": "white",
          "plot_bgcolor": "#E5ECF6",
          "polar": {
           "angularaxis": {
            "gridcolor": "white",
            "linecolor": "white",
            "ticks": ""
           },
           "bgcolor": "#E5ECF6",
           "radialaxis": {
            "gridcolor": "white",
            "linecolor": "white",
            "ticks": ""
           }
          },
          "scene": {
           "xaxis": {
            "backgroundcolor": "#E5ECF6",
            "gridcolor": "white",
            "gridwidth": 2,
            "linecolor": "white",
            "showbackground": true,
            "ticks": "",
            "zerolinecolor": "white"
           },
           "yaxis": {
            "backgroundcolor": "#E5ECF6",
            "gridcolor": "white",
            "gridwidth": 2,
            "linecolor": "white",
            "showbackground": true,
            "ticks": "",
            "zerolinecolor": "white"
           },
           "zaxis": {
            "backgroundcolor": "#E5ECF6",
            "gridcolor": "white",
            "gridwidth": 2,
            "linecolor": "white",
            "showbackground": true,
            "ticks": "",
            "zerolinecolor": "white"
           }
          },
          "shapedefaults": {
           "line": {
            "color": "#2a3f5f"
           }
          },
          "ternary": {
           "aaxis": {
            "gridcolor": "white",
            "linecolor": "white",
            "ticks": ""
           },
           "baxis": {
            "gridcolor": "white",
            "linecolor": "white",
            "ticks": ""
           },
           "bgcolor": "#E5ECF6",
           "caxis": {
            "gridcolor": "white",
            "linecolor": "white",
            "ticks": ""
           }
          },
          "title": {
           "x": 0.05
          },
          "xaxis": {
           "automargin": true,
           "gridcolor": "white",
           "linecolor": "white",
           "ticks": "",
           "title": {
            "standoff": 15
           },
           "zerolinecolor": "white",
           "zerolinewidth": 2
          },
          "yaxis": {
           "automargin": true,
           "gridcolor": "white",
           "linecolor": "white",
           "ticks": "",
           "title": {
            "standoff": 15
           },
           "zerolinecolor": "white",
           "zerolinewidth": 2
          }
         }
        },
        "title": {
         "text": "Particle Trajectory"
        },
        "xaxis": {
         "anchor": "y",
         "domain": [
          0,
          1
         ],
         "title": {
          "text": "x"
         }
        },
        "yaxis": {
         "anchor": "x",
         "domain": [
          0,
          1
         ],
         "title": {
          "text": "y"
         }
        }
       }
      }
     },
     "metadata": {},
     "output_type": "display_data"
    }
   ],
   "source": [
    "fig = px.scatter(x = x[:, 0], y = x[:, 1], title=\"Particle Trajectory\")\n",
    "fig.show()"
   ]
  }
 ],
 "metadata": {
  "kernelspec": {
   "display_name": "hybrid-sys-id",
   "language": "python",
   "name": "python3"
  },
  "language_info": {
   "codemirror_mode": {
    "name": "ipython",
    "version": 3
   },
   "file_extension": ".py",
   "mimetype": "text/x-python",
   "name": "python",
   "nbconvert_exporter": "python",
   "pygments_lexer": "ipython3",
   "version": "3.10.18"
  }
 },
 "nbformat": 4,
 "nbformat_minor": 5
}

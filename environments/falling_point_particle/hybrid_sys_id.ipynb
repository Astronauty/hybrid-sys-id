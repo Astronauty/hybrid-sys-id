{
 "cells": [
  {
   "cell_type": "code",
   "execution_count": 1123,
   "id": "4237b071",
   "metadata": {},
   "outputs": [],
   "source": [
    "from hybrid_sys_id_dataset import HybridSysIDDataset\n",
    "from kLinReg import KLinRegMultiOutput\n",
    "import numpy as np\n",
    "import scipy.io\n",
    "from torch.utils.data import DataLoader"
   ]
  },
  {
   "cell_type": "code",
   "execution_count": 1124,
   "id": "50c43266",
   "metadata": {},
   "outputs": [
    {
     "name": "stdout",
     "output_type": "stream",
     "text": [
      "(313, 16) (313, 4)\n"
     ]
    }
   ],
   "source": [
    "data = scipy.io.loadmat('xout.mat')\n",
    "x = data['xout']  # Assuming your states are stored in 'xout'\n",
    "\n",
    "# Create dataset\n",
    "na = 4\n",
    "dataset = HybridSysIDDataset(x, na=na)\n",
    "\n",
    "# Extract all features and targets\n",
    "X = np.stack([dataset[i][0].numpy() for i in range(len(dataset))])  # (N, na*4)\n",
    "y = np.stack([dataset[i][1].numpy() for i in range(len(dataset))])  # (N, 4)\n",
    "\n",
    "print(X.shape, y.shape)  # Should be (N, na*4), (N, 4)\n",
    "\n"
   ]
  },
  {
   "cell_type": "code",
   "execution_count": 1125,
   "id": "f007c9d0",
   "metadata": {},
   "outputs": [],
   "source": [
    "s = 4  # number of modes\n",
    "d = X.shape[1]\n",
    "M = y.shape[1]\n",
    "\n",
    "# Initial guess for theta: shape (d, s, M)\n",
    "theta_init = np.random.randn(d, s, M)\n",
    "\n",
    "klinreg = KLinRegMultiOutput(X, y, s, theta_init, max_iters=100, tol=1e-6)"
   ]
  },
  {
   "cell_type": "code",
   "execution_count": 1126,
   "id": "a4a8ed5e",
   "metadata": {},
   "outputs": [
    {
     "name": "stdout",
     "output_type": "stream",
     "text": [
      "Converged at iteration 8\n"
     ]
    }
   ],
   "source": [
    "theta_final, mode_assignments = klinreg.fit()\n"
   ]
  },
  {
   "cell_type": "code",
   "execution_count": 1127,
   "id": "f2d671b8",
   "metadata": {},
   "outputs": [
    {
     "name": "stdout",
     "output_type": "stream",
     "text": [
      "[[ 9.94159268e-01  4.98752196e+00  1.91388880e-01 -3.01838434e-01]\n",
      " [ 9.94170576e-01  4.98315988e+00  1.91282490e-01 -3.99951670e-01]\n",
      " [ 9.94180410e-01  4.97782565e+00  1.91106404e-01 -4.97862265e-01]\n",
      " ...\n",
      " [ 9.72051621e-01  1.76151208e-03  1.91775301e+00 -3.06407313e-03]\n",
      " [ 9.91176635e-01  1.79630105e-03  1.91776081e+00 -3.12930176e-03]\n",
      " [ 1.01030165e+00  1.83109002e-03  1.91776862e+00 -3.19453039e-03]]\n"
     ]
    }
   ],
   "source": [
    "def predict_kLinReg(X_new, klinreg):\n",
    "    N_new = X_new.shape[0]\n",
    "    y_pred = np.zeros((N_new, M))\n",
    "    \n",
    "    for i in range(N_new):\n",
    "        # Compute residuals for all modes\n",
    "        residuals = np.zeros(s)\n",
    "        for j in range(s):\n",
    "            y_mode = X_new[i] @ klinreg.theta[:, j, :, klinreg.i]\n",
    "            residuals[j] = np.sum((y_mode - y[i])**2)  # optional, or just pick mode j\n",
    "        best_mode = np.argmin(residuals)\n",
    "        y_pred[i] = X_new[i] @ klinreg.theta[:, best_mode, :, klinreg.i]\n",
    "    \n",
    "    return y_pred\n",
    "\n",
    "y_pred = predict_kLinReg(X, klinreg)\n",
    "print(y_pred)"
   ]
  },
  {
   "cell_type": "code",
   "execution_count": 1128,
   "id": "563dd027",
   "metadata": {},
   "outputs": [
    {
     "data": {
      "application/vnd.plotly.v1+json": {
       "config": {
        "plotlyServerURL": "https://plot.ly"
       },
       "data": [
        {
         "line": {
          "color": "blue",
          "width": 2
         },
         "mode": "lines",
         "name": "True x_pos",
         "type": "scatter",
         "xaxis": "x",
         "y": {
          "bdata": "AACAPwAAgD8AAIA/AACAPwAAgD8AAIA/AACAPwAAgD8AAIA/AACAPwAAgD8AAIA/AACAPwAAgD8AAIA/AACAPwAAgD8AAIA/AACAPwAAgD8AAIA/AACAPwAAgD8AAIA/AACAPwAAgD8AAIA/AACAPwAAgD8AAIA/AACAPwAAgD8AAIA/AACAPwAAgD8AAIA/AACAPwAAgD8AAIA/AACAPwAAgD8AAIA/AACAPwAAgD8AAIA/AACAPwAAgD8AAIA/AACAPwAAgD8AAIA/AACAPwAAgD8AAIA/AACAPwAAgD8AAIA/AACAPwAAgD8AAIA/AACAPwAAgD8AAIA/AACAPwAAgD8AAIA/AACAPwAAgD8AAIA/AACAPwAAgD8AAIA/AACAPwAAgD8AAIA/AACAP1Avdj+gXmw/741iPz+9WD+P7E4/3xtFPy9LOz9/ejE/zqknPx7ZHT9uCBQ/vjcKPw5nAD+7LO0+W4vZPvrpxT6aSLI+OqeePtkFiz7yyG4+MYZHPnFDID5gAfI93nujPbrsKT1tG047TCkQvSealr2pH+W9ldIZvlYVQb4XWGi+bM2Hvsxum74sEK++qJu+vgk90r5p3uW+yX/5vpWQBr9FYRC/9TEav6UCJL9W0y2/BqQ3v7Z0Qb9mRUu/FhZVv8bmXr93t2i/J4hyv9dYfL8AAIC/JWyCvzvIhL9DFIe/PVCJvyh8i78FmI2/06OPv5Ofkb9Ei5O/6GaVv3wyl78C7pi/epmav+Q0nL8/wJ2/izufv8mmoL/5AaK/Gk2jvy2IpL8ys6W/KM6mvw/Zp7/p06i/s76pv3CZqr8eZKu/vR6sv0/JrL/RY62/Ru6tv6torr8D066/TC2vv4d3r7+zsa+/0duvv+D1r7/h/6+/0/mvv7jjr7+Nva+/VYevvw1Br7+46q6/VISuv+ENrr9hh62/0fCsvzRKrL+Ik6u/zcyqvwT2qb8tD6m/Rxiov1MRp79R+qW/QNOkvyCco7/yVKK/tv2gv2uWn78SH56/q5ecvzUAm7+xWJm/HqGXv33Zlb/NAZS/DxqSv0MikL8=",
          "dtype": "f4"
         },
         "yaxis": "y"
        },
        {
         "line": {
          "color": "red",
          "dash": "dash",
          "width": 2
         },
         "mode": "lines",
         "name": "Predicted x_pos",
         "type": "scatter",
         "xaxis": "x",
         "y": {
          "bdata": "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",
          "dtype": "f8"
         },
         "yaxis": "y"
        },
        {
         "line": {
          "color": "blue",
          "width": 2
         },
         "mode": "lines",
         "name": "True y_pos",
         "type": "scatter",
         "xaxis": "x2",
         "y": {
          "bdata": "xr+fQKabn0B+b59ATzufQBn/nkDcup5AmG6eQEwankD5vZ1An1mdQD7tnEDVeJxAZfybQO53m0Bw65pA61aaQF66mUDKFZlAL2mYQI20l0Dk95ZAMzOWQHtmlUC8kZRA9rSTQCnQkkBU45FAeO6QQJXxj0Cr7I5Aud+NQMHKjEDBrYtAuYiKQKtbiUCWJohAeemGQFWkhUAqV4RA9wGDQL6kgUB9P4BAaqR9QMu5ekAfv3dAY7R0QJqZcUDBbm5A2zNrQOboZ0DjjWRA0SJhQLGnXUCCHFpARYFWQPrVUkCgGk9AN09LQMFzR0A8iENAqIw/QAaBO0BWZTdAlzkzQMr9LkDusSpABFYmQAzqIUAFbh1A7+EYQMxFFECamQ9AWd0KQAoRBkCtNAFAAAAAQJkH+z8W7/U/drbwP7ld6z/f5OU/6EvgP9WS2j+ludQ/V8DOP+2myD9mbcI/wxO8PwKatT8lAK8/K0aoPxRsoT/gcZo/j1eTPyEdjD+XwoQ/4I96P1haaz+W5Fs/mi5MP2U4PD/2ASw/TosbP2zUCj+guvM+9UvRPtdcrj5F7Yo+gPpNPo8ZBT7f3mw9AACApQAAgKUAAIClAACApQAAgKUAAIClAACApQAAgKUAAIClAACApQAAgKUAAIClAACApQAAgKUAAIClAACApQAAgKUAAIClNQmbPGgHGT1oiGI9zQOVPYDCtz1MgNk9MT36PZj8DD4kWhw+PDcrPuKTOT4TcEc+0stUPh2nYT71AW4+Wtx5PiWbgj7kB4g+ajSNPrUgkj7HzJY+nzibPj5knz6jT6M+zvqmPsBlqj53kK0+9nqwPjolsz5Fj7U+Frm3Pq6iuT4MTLs+MLW8PhrevT7Lxr4+Qm+/PoDXvz6E/78+Tue/Pt6Ovz419r4+Uh2+PjYEvT7fqrs+TxG6PoY3uD6DHbY+RsOzPs8osT4fTq4+NTOrPhHYpz60PKQ+HWGgPk1FnD5C6Zc+/kyTPoFwjj7KU4k+2faDPlyzfD6T+HA+V71kPqgBWD6FxUo+7wg9PubLLj5pDiA+edAQPhYSAT4=",
          "dtype": "f4"
         },
         "yaxis": "y2"
        },
        {
         "line": {
          "color": "red",
          "dash": "dash",
          "width": 2
         },
         "mode": "lines",
         "name": "Predicted y_pos",
         "type": "scatter",
         "xaxis": "x2",
         "y": {
          "bdata": "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",
          "dtype": "f8"
         },
         "yaxis": "y2"
        },
        {
         "line": {
          "color": "blue",
          "width": 2
         },
         "mode": "lines",
         "name": "True x_vel",
         "type": "scatter",
         "xaxis": "x3",
         "y": {
          "bdata": "AAAAAAAAAAAAAAAAAAAAAAAAAAAAAAAAAAAAAAAAAAAAAAAAAAAAAAAAAAAAAAAAAAAAAAAAAAAAAAAAAAAAAAAAAAAAAAAAAAAAAAAAAAAAAAAAAAAAAAAAAAAAAAAAAAAAAAAAAAAAAAAAAAAAAAAAAAAAAAAAAAAAAAAAAAAAAAAAAAAAAAAAAAAAAAAAAAAAAAAAAAAAAAAAAAAAAAAAAAAAAAAAAAAAAAAAAAAAAAAAAAAAAAAAAAAAAAAAAAAAAAAAAAAAAAAAAAAAAAAAAAAAAAAAAAAAAAAAAAAAAAAAAAAAAAAAAAAAAAAAAAAAAAAAAAAAAAAAAAAAAAAAAAAAAAAAAAAAAAAAAAAAAAAAAAAAAAAAAAAAAAAAAAAAAAAAAAAAAAAAAAAAADRhdcA0YXXANGF1wDRhdcA0YXXANGF1wDRhdcA0YXXANGF1wDRhdcA0YXXANGF1wDRhdcA0YXXANGF1wDRhdcA0YXXANGF1wDRhdcA0YXXANGF1wDRhdcA0YXXANGF1wDRhdcA0YXXANGF1wDRhdcA0YXXANGF1wDRhdcA0YXXANGF1wDRhdcA0YXXANGF1wDRhdcA0YXXANGF1wDRhdcA0YXXANGF1wDRhdcA0YXXANGF1wDRhdcA0YXXANGF1wDRhdcA0YXXANGF1wDRhdcA0YXXAkxvvv/HV6L9PkOK/rUrcvwsF1r9qv8+/yHnJvyY0w7+E7ry/4qi2v0FjsL+fHaq//dejv1uSnb+6TJe/GAeRv3bBir/Ue4S/ZWx8vyHhb7/eVWO/mspWv1Y/Sr8TtD2/zygxv4ydJL9IEhi/BIcLv4L3/b774OS+c8rLvuyzsr5lnZm+3oaAvq3gTr6fsxy+IQ3VvQpmYb2CjsW7aQIwPVFbvD23WhA+xYdCPtS0dD7xcJM+eIesPv+dxT6GtN4+Dsv3PspwCD8O/BQ/UochP5USLj/ZnTo/HClHP2C0Uz+jP2A/58psPytWeT+38II/WTaJP/t7jz+cwZU/PgecP+BMoj+Ckqg/JNiuP8UdtT9nY7s/CanBP6vuxz8=",
          "dtype": "f4"
         },
         "yaxis": "y3"
        },
        {
         "line": {
          "color": "red",
          "dash": "dash",
          "width": 2
         },
         "mode": "lines",
         "name": "Predicted x_vel",
         "type": "scatter",
         "xaxis": "x3",
         "y": {
          "bdata": "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",
          "dtype": "f8"
         },
         "yaxis": "y3"
        },
        {
         "line": {
          "color": "blue",
          "width": 2
         },
         "mode": "lines",
         "name": "True y_vel",
         "type": "scatter",
         "xaxis": "x4",
         "y": {
          "bdata": "ObTIvkjh+r4rhxa/sp0vvzm0SL/BymG/SOF6v+f7ib8rh5a/bxKjv7Kdr7/2KLy/ObTIv30/1b/ByuG/BFbuv0jh+r9GtgPA5/sJwIlBEMArhxbAzcwcwG8SI8AQWCnAsp0vwFTjNcD2KDzAmG5CwDm0SMDb+U7AfT9VwB+FW8DBymHAYhBowARWbsCmm3TASOF6wHWTgMBGtoPAF9mGwOf7icC4Ho3AiUGQwFpkk8Arh5bA/KmZwM3MnMCe75/AbxKjwD81psAQWKnA4XqswLKdr8CDwLLAVOO1wCUGucD2KLzAx0u/wJhuwsBokcXAObTIwArXy8Db+c7ArBzSwH0/1cBOYtjAH4XbwPCn3sDByuHAke3kwGIQ6MAzM+vABFbuwNV48cCmm/TANGH1wName8A89oDADRmEwN47h8CvXorAgIGNwFCkkMAhx5PA8umWwMMMmsCUL53AZVKgwDZ1o8AHmKbA2LqpwKndrMB5ALDASiOzwBtGtsDsaLnAvYu8wI6uv8Bf0cLAMPTFwAEXycDROczAolzPwHN/0sBEotXAFcXYwObn28C3Ct/AiC3iwFlQ5cAqc+jA5e7qwAAAAAAAAAAAAAAAAAAAAAAAAAAAAAAAAAAAAAAAAAAAAAAAAAAAAAAAAAAAAAAAAAAAAAAAAAAAAAAAAAAAAAAAAAAAkxvvP/HV6D9PkOI/rUrcPwsF1j9qv88/yHnJPyY0wz+E7rw/4qi2P0FjsD+fHao//dejP1uSnT+6TJc/GAeRP3bBij/Ue4Q/ZWx8PyHhbz/eVWM/mspWP1Y/Sj8TtD0/zygxP4ydJD9IEhg/BIcLP4L3/T774OQ+c8rLPuyzsj5lnZk+3oaAPq3gTj6fsxw+IQ3VPQpmYT2CjsU7aQIwvVFbvL23WhC+xYdCvtS0dL7xcJO+eIesvv+dxb6GtN6+Dsv3vspwCL8O/BS/Uochv5USLr/ZnTq/HClHv2C0U7+jP2C/58psvytWeb+38IK/WTaJv/t7j7+cwZW/Pgecv+BMor+Ckqi/JNiuv8Udtb9nY7u/CanBv6vux78=",
          "dtype": "f4"
         },
         "yaxis": "y4"
        },
        {
         "line": {
          "color": "red",
          "dash": "dash",
          "width": 2
         },
         "mode": "lines",
         "name": "Predicted y_vel",
         "type": "scatter",
         "xaxis": "x4",
         "y": {
          "bdata": "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",
          "dtype": "f8"
         },
         "yaxis": "y4"
        }
       ],
       "layout": {
        "annotations": [
         {
          "font": {
           "size": 16
          },
          "showarrow": false,
          "text": "x_pos",
          "x": 0.225,
          "xanchor": "center",
          "xref": "paper",
          "y": 1,
          "yanchor": "bottom",
          "yref": "paper"
         },
         {
          "font": {
           "size": 16
          },
          "showarrow": false,
          "text": "y_pos",
          "x": 0.775,
          "xanchor": "center",
          "xref": "paper",
          "y": 1,
          "yanchor": "bottom",
          "yref": "paper"
         },
         {
          "font": {
           "size": 16
          },
          "showarrow": false,
          "text": "x_vel",
          "x": 0.225,
          "xanchor": "center",
          "xref": "paper",
          "y": 0.375,
          "yanchor": "bottom",
          "yref": "paper"
         },
         {
          "font": {
           "size": 16
          },
          "showarrow": false,
          "text": "y_vel",
          "x": 0.775,
          "xanchor": "center",
          "xref": "paper",
          "y": 0.375,
          "yanchor": "bottom",
          "yref": "paper"
         }
        ],
        "height": 600,
        "template": {
         "data": {
          "bar": [
           {
            "error_x": {
             "color": "#2a3f5f"
            },
            "error_y": {
             "color": "#2a3f5f"
            },
            "marker": {
             "line": {
              "color": "#E5ECF6",
              "width": 0.5
             },
             "pattern": {
              "fillmode": "overlay",
              "size": 10,
              "solidity": 0.2
             }
            },
            "type": "bar"
           }
          ],
          "barpolar": [
           {
            "marker": {
             "line": {
              "color": "#E5ECF6",
              "width": 0.5
             },
             "pattern": {
              "fillmode": "overlay",
              "size": 10,
              "solidity": 0.2
             }
            },
            "type": "barpolar"
           }
          ],
          "carpet": [
           {
            "aaxis": {
             "endlinecolor": "#2a3f5f",
             "gridcolor": "white",
             "linecolor": "white",
             "minorgridcolor": "white",
             "startlinecolor": "#2a3f5f"
            },
            "baxis": {
             "endlinecolor": "#2a3f5f",
             "gridcolor": "white",
             "linecolor": "white",
             "minorgridcolor": "white",
             "startlinecolor": "#2a3f5f"
            },
            "type": "carpet"
           }
          ],
          "choropleth": [
           {
            "colorbar": {
             "outlinewidth": 0,
             "ticks": ""
            },
            "type": "choropleth"
           }
          ],
          "contour": [
           {
            "colorbar": {
             "outlinewidth": 0,
             "ticks": ""
            },
            "colorscale": [
             [
              0,
              "#0d0887"
             ],
             [
              0.1111111111111111,
              "#46039f"
             ],
             [
              0.2222222222222222,
              "#7201a8"
             ],
             [
              0.3333333333333333,
              "#9c179e"
             ],
             [
              0.4444444444444444,
              "#bd3786"
             ],
             [
              0.5555555555555556,
              "#d8576b"
             ],
             [
              0.6666666666666666,
              "#ed7953"
             ],
             [
              0.7777777777777778,
              "#fb9f3a"
             ],
             [
              0.8888888888888888,
              "#fdca26"
             ],
             [
              1,
              "#f0f921"
             ]
            ],
            "type": "contour"
           }
          ],
          "contourcarpet": [
           {
            "colorbar": {
             "outlinewidth": 0,
             "ticks": ""
            },
            "type": "contourcarpet"
           }
          ],
          "heatmap": [
           {
            "colorbar": {
             "outlinewidth": 0,
             "ticks": ""
            },
            "colorscale": [
             [
              0,
              "#0d0887"
             ],
             [
              0.1111111111111111,
              "#46039f"
             ],
             [
              0.2222222222222222,
              "#7201a8"
             ],
             [
              0.3333333333333333,
              "#9c179e"
             ],
             [
              0.4444444444444444,
              "#bd3786"
             ],
             [
              0.5555555555555556,
              "#d8576b"
             ],
             [
              0.6666666666666666,
              "#ed7953"
             ],
             [
              0.7777777777777778,
              "#fb9f3a"
             ],
             [
              0.8888888888888888,
              "#fdca26"
             ],
             [
              1,
              "#f0f921"
             ]
            ],
            "type": "heatmap"
           }
          ],
          "histogram": [
           {
            "marker": {
             "pattern": {
              "fillmode": "overlay",
              "size": 10,
              "solidity": 0.2
             }
            },
            "type": "histogram"
           }
          ],
          "histogram2d": [
           {
            "colorbar": {
             "outlinewidth": 0,
             "ticks": ""
            },
            "colorscale": [
             [
              0,
              "#0d0887"
             ],
             [
              0.1111111111111111,
              "#46039f"
             ],
             [
              0.2222222222222222,
              "#7201a8"
             ],
             [
              0.3333333333333333,
              "#9c179e"
             ],
             [
              0.4444444444444444,
              "#bd3786"
             ],
             [
              0.5555555555555556,
              "#d8576b"
             ],
             [
              0.6666666666666666,
              "#ed7953"
             ],
             [
              0.7777777777777778,
              "#fb9f3a"
             ],
             [
              0.8888888888888888,
              "#fdca26"
             ],
             [
              1,
              "#f0f921"
             ]
            ],
            "type": "histogram2d"
           }
          ],
          "histogram2dcontour": [
           {
            "colorbar": {
             "outlinewidth": 0,
             "ticks": ""
            },
            "colorscale": [
             [
              0,
              "#0d0887"
             ],
             [
              0.1111111111111111,
              "#46039f"
             ],
             [
              0.2222222222222222,
              "#7201a8"
             ],
             [
              0.3333333333333333,
              "#9c179e"
             ],
             [
              0.4444444444444444,
              "#bd3786"
             ],
             [
              0.5555555555555556,
              "#d8576b"
             ],
             [
              0.6666666666666666,
              "#ed7953"
             ],
             [
              0.7777777777777778,
              "#fb9f3a"
             ],
             [
              0.8888888888888888,
              "#fdca26"
             ],
             [
              1,
              "#f0f921"
             ]
            ],
            "type": "histogram2dcontour"
           }
          ],
          "mesh3d": [
           {
            "colorbar": {
             "outlinewidth": 0,
             "ticks": ""
            },
            "type": "mesh3d"
           }
          ],
          "parcoords": [
           {
            "line": {
             "colorbar": {
              "outlinewidth": 0,
              "ticks": ""
             }
            },
            "type": "parcoords"
           }
          ],
          "pie": [
           {
            "automargin": true,
            "type": "pie"
           }
          ],
          "scatter": [
           {
            "fillpattern": {
             "fillmode": "overlay",
             "size": 10,
             "solidity": 0.2
            },
            "type": "scatter"
           }
          ],
          "scatter3d": [
           {
            "line": {
             "colorbar": {
              "outlinewidth": 0,
              "ticks": ""
             }
            },
            "marker": {
             "colorbar": {
              "outlinewidth": 0,
              "ticks": ""
             }
            },
            "type": "scatter3d"
           }
          ],
          "scattercarpet": [
           {
            "marker": {
             "colorbar": {
              "outlinewidth": 0,
              "ticks": ""
             }
            },
            "type": "scattercarpet"
           }
          ],
          "scattergeo": [
           {
            "marker": {
             "colorbar": {
              "outlinewidth": 0,
              "ticks": ""
             }
            },
            "type": "scattergeo"
           }
          ],
          "scattergl": [
           {
            "marker": {
             "colorbar": {
              "outlinewidth": 0,
              "ticks": ""
             }
            },
            "type": "scattergl"
           }
          ],
          "scattermap": [
           {
            "marker": {
             "colorbar": {
              "outlinewidth": 0,
              "ticks": ""
             }
            },
            "type": "scattermap"
           }
          ],
          "scattermapbox": [
           {
            "marker": {
             "colorbar": {
              "outlinewidth": 0,
              "ticks": ""
             }
            },
            "type": "scattermapbox"
           }
          ],
          "scatterpolar": [
           {
            "marker": {
             "colorbar": {
              "outlinewidth": 0,
              "ticks": ""
             }
            },
            "type": "scatterpolar"
           }
          ],
          "scatterpolargl": [
           {
            "marker": {
             "colorbar": {
              "outlinewidth": 0,
              "ticks": ""
             }
            },
            "type": "scatterpolargl"
           }
          ],
          "scatterternary": [
           {
            "marker": {
             "colorbar": {
              "outlinewidth": 0,
              "ticks": ""
             }
            },
            "type": "scatterternary"
           }
          ],
          "surface": [
           {
            "colorbar": {
             "outlinewidth": 0,
             "ticks": ""
            },
            "colorscale": [
             [
              0,
              "#0d0887"
             ],
             [
              0.1111111111111111,
              "#46039f"
             ],
             [
              0.2222222222222222,
              "#7201a8"
             ],
             [
              0.3333333333333333,
              "#9c179e"
             ],
             [
              0.4444444444444444,
              "#bd3786"
             ],
             [
              0.5555555555555556,
              "#d8576b"
             ],
             [
              0.6666666666666666,
              "#ed7953"
             ],
             [
              0.7777777777777778,
              "#fb9f3a"
             ],
             [
              0.8888888888888888,
              "#fdca26"
             ],
             [
              1,
              "#f0f921"
             ]
            ],
            "type": "surface"
           }
          ],
          "table": [
           {
            "cells": {
             "fill": {
              "color": "#EBF0F8"
             },
             "line": {
              "color": "white"
             }
            },
            "header": {
             "fill": {
              "color": "#C8D4E3"
             },
             "line": {
              "color": "white"
             }
            },
            "type": "table"
           }
          ]
         },
         "layout": {
          "annotationdefaults": {
           "arrowcolor": "#2a3f5f",
           "arrowhead": 0,
           "arrowwidth": 1
          },
          "autotypenumbers": "strict",
          "coloraxis": {
           "colorbar": {
            "outlinewidth": 0,
            "ticks": ""
           }
          },
          "colorscale": {
           "diverging": [
            [
             0,
             "#8e0152"
            ],
            [
             0.1,
             "#c51b7d"
            ],
            [
             0.2,
             "#de77ae"
            ],
            [
             0.3,
             "#f1b6da"
            ],
            [
             0.4,
             "#fde0ef"
            ],
            [
             0.5,
             "#f7f7f7"
            ],
            [
             0.6,
             "#e6f5d0"
            ],
            [
             0.7,
             "#b8e186"
            ],
            [
             0.8,
             "#7fbc41"
            ],
            [
             0.9,
             "#4d9221"
            ],
            [
             1,
             "#276419"
            ]
           ],
           "sequential": [
            [
             0,
             "#0d0887"
            ],
            [
             0.1111111111111111,
             "#46039f"
            ],
            [
             0.2222222222222222,
             "#7201a8"
            ],
            [
             0.3333333333333333,
             "#9c179e"
            ],
            [
             0.4444444444444444,
             "#bd3786"
            ],
            [
             0.5555555555555556,
             "#d8576b"
            ],
            [
             0.6666666666666666,
             "#ed7953"
            ],
            [
             0.7777777777777778,
             "#fb9f3a"
            ],
            [
             0.8888888888888888,
             "#fdca26"
            ],
            [
             1,
             "#f0f921"
            ]
           ],
           "sequentialminus": [
            [
             0,
             "#0d0887"
            ],
            [
             0.1111111111111111,
             "#46039f"
            ],
            [
             0.2222222222222222,
             "#7201a8"
            ],
            [
             0.3333333333333333,
             "#9c179e"
            ],
            [
             0.4444444444444444,
             "#bd3786"
            ],
            [
             0.5555555555555556,
             "#d8576b"
            ],
            [
             0.6666666666666666,
             "#ed7953"
            ],
            [
             0.7777777777777778,
             "#fb9f3a"
            ],
            [
             0.8888888888888888,
             "#fdca26"
            ],
            [
             1,
             "#f0f921"
            ]
           ]
          },
          "colorway": [
           "#636efa",
           "#EF553B",
           "#00cc96",
           "#ab63fa",
           "#FFA15A",
           "#19d3f3",
           "#FF6692",
           "#B6E880",
           "#FF97FF",
           "#FECB52"
          ],
          "font": {
           "color": "#2a3f5f"
          },
          "geo": {
           "bgcolor": "white",
           "lakecolor": "white",
           "landcolor": "#E5ECF6",
           "showlakes": true,
           "showland": true,
           "subunitcolor": "white"
          },
          "hoverlabel": {
           "align": "left"
          },
          "hovermode": "closest",
          "mapbox": {
           "style": "light"
          },
          "paper_bgcolor": "white",
          "plot_bgcolor": "#E5ECF6",
          "polar": {
           "angularaxis": {
            "gridcolor": "white",
            "linecolor": "white",
            "ticks": ""
           },
           "bgcolor": "#E5ECF6",
           "radialaxis": {
            "gridcolor": "white",
            "linecolor": "white",
            "ticks": ""
           }
          },
          "scene": {
           "xaxis": {
            "backgroundcolor": "#E5ECF6",
            "gridcolor": "white",
            "gridwidth": 2,
            "linecolor": "white",
            "showbackground": true,
            "ticks": "",
            "zerolinecolor": "white"
           },
           "yaxis": {
            "backgroundcolor": "#E5ECF6",
            "gridcolor": "white",
            "gridwidth": 2,
            "linecolor": "white",
            "showbackground": true,
            "ticks": "",
            "zerolinecolor": "white"
           },
           "zaxis": {
            "backgroundcolor": "#E5ECF6",
            "gridcolor": "white",
            "gridwidth": 2,
            "linecolor": "white",
            "showbackground": true,
            "ticks": "",
            "zerolinecolor": "white"
           }
          },
          "shapedefaults": {
           "line": {
            "color": "#2a3f5f"
           }
          },
          "ternary": {
           "aaxis": {
            "gridcolor": "white",
            "linecolor": "white",
            "ticks": ""
           },
           "baxis": {
            "gridcolor": "white",
            "linecolor": "white",
            "ticks": ""
           },
           "bgcolor": "#E5ECF6",
           "caxis": {
            "gridcolor": "white",
            "linecolor": "white",
            "ticks": ""
           }
          },
          "title": {
           "x": 0.05
          },
          "xaxis": {
           "automargin": true,
           "gridcolor": "white",
           "linecolor": "white",
           "ticks": "",
           "title": {
            "standoff": 15
           },
           "zerolinecolor": "white",
           "zerolinewidth": 2
          },
          "yaxis": {
           "automargin": true,
           "gridcolor": "white",
           "linecolor": "white",
           "ticks": "",
           "title": {
            "standoff": 15
           },
           "zerolinecolor": "white",
           "zerolinewidth": 2
          }
         }
        },
        "title": {
         "text": "Time Series: True vs Predicted"
        },
        "width": 800,
        "xaxis": {
         "anchor": "y",
         "domain": [
          0,
          0.45
         ]
        },
        "xaxis2": {
         "anchor": "y2",
         "domain": [
          0.55,
          1
         ]
        },
        "xaxis3": {
         "anchor": "y3",
         "domain": [
          0,
          0.45
         ]
        },
        "xaxis4": {
         "anchor": "y4",
         "domain": [
          0.55,
          1
         ]
        },
        "yaxis": {
         "anchor": "x",
         "domain": [
          0.625,
          1
         ]
        },
        "yaxis2": {
         "anchor": "x2",
         "domain": [
          0.625,
          1
         ]
        },
        "yaxis3": {
         "anchor": "x3",
         "domain": [
          0,
          0.375
         ]
        },
        "yaxis4": {
         "anchor": "x4",
         "domain": [
          0,
          0.375
         ]
        }
       }
      }
     },
     "metadata": {},
     "output_type": "display_data"
    }
   ],
   "source": [
    "import plotly.graph_objects as go\n",
    "from plotly.subplots import make_subplots\n",
    "\n",
    "N_plot = 200\n",
    "y_true_plot = y[:N_plot]\n",
    "y_pred_plot = y_pred[:N_plot]\n",
    "\n",
    "labels = ['x_pos', 'y_pos', 'x_vel', 'y_vel']\n",
    "\n",
    "# Create 2x2 subplot\n",
    "fig = make_subplots(rows=2, cols=2, subplot_titles=labels)\n",
    "\n",
    "for i in range(4):\n",
    "    row = i // 2 + 1\n",
    "    col = i % 2 + 1\n",
    "    \n",
    "    # True\n",
    "    fig.add_trace(go.Scatter(y=y_true_plot[:, i], mode='lines', name=f'True {labels[i]}', line=dict(color='blue', width=2)), row=row, col=col)\n",
    "    \n",
    "    # Predicted\n",
    "    fig.add_trace(go.Scatter(y=y_pred_plot[:, i], mode='lines', name=f'Predicted {labels[i]}', line=dict(color='red', width=2, dash='dash')), row=row, col=col)\n",
    "\n",
    "fig.update_layout(height=600, width=800, title_text=\"Time Series: True vs Predicted\")\n",
    "fig.show()\n"
   ]
  },
  {
   "cell_type": "code",
   "execution_count": 1129,
   "id": "572ce3f0",
   "metadata": {},
   "outputs": [
    {
     "data": {
      "application/vnd.plotly.v1+json": {
       "config": {
        "plotlyServerURL": "https://plot.ly"
       },
       "data": [
        {
         "line": {
          "color": "blue",
          "width": 2
         },
         "mode": "lines",
         "name": "True trajectory",
         "type": "scatter",
         "x": {
          "bdata": "AACAPwAAgD8AAIA/AACAPwAAgD8AAIA/AACAPwAAgD8AAIA/AACAPwAAgD8AAIA/AACAPwAAgD8AAIA/AACAPwAAgD8AAIA/AACAPwAAgD8AAIA/AACAPwAAgD8AAIA/AACAPwAAgD8AAIA/AACAPwAAgD8AAIA/AACAPwAAgD8AAIA/AACAPwAAgD8AAIA/AACAPwAAgD8AAIA/AACAPwAAgD8AAIA/AACAPwAAgD8AAIA/AACAPwAAgD8AAIA/AACAPwAAgD8AAIA/AACAPwAAgD8AAIA/AACAPwAAgD8AAIA/AACAPwAAgD8AAIA/AACAPwAAgD8AAIA/AACAPwAAgD8AAIA/AACAPwAAgD8AAIA/AACAPwAAgD8AAIA/AACAPwAAgD8AAIA/AACAP1Avdj+gXmw/741iPz+9WD+P7E4/3xtFPy9LOz9/ejE/zqknPx7ZHT9uCBQ/vjcKPw5nAD+7LO0+W4vZPvrpxT6aSLI+OqeePtkFiz7yyG4+MYZHPnFDID5gAfI93nujPbrsKT1tG047TCkQvSealr2pH+W9ldIZvlYVQb4XWGi+bM2Hvsxum74sEK++qJu+vgk90r5p3uW+yX/5vpWQBr9FYRC/9TEav6UCJL9W0y2/BqQ3v7Z0Qb9mRUu/FhZVv8bmXr93t2i/J4hyv9dYfL8AAIC/JWyCvzvIhL9DFIe/PVCJvyh8i78FmI2/06OPv5Ofkb9Ei5O/6GaVv3wyl78C7pi/epmav+Q0nL8/wJ2/izufv8mmoL/5AaK/Gk2jvy2IpL8ys6W/KM6mvw/Zp7/p06i/s76pv3CZqr8eZKu/vR6sv0/JrL/RY62/Ru6tv6torr8D066/TC2vv4d3r7+zsa+/0duvv+D1r7/h/6+/0/mvv7jjr7+Nva+/VYevvw1Br7+46q6/VISuv+ENrr9hh62/0fCsvzRKrL+Ik6u/zcyqvwT2qb8tD6m/Rxiov1MRp79R+qW/QNOkvyCco7/yVKK/tv2gv2uWn78SH56/q5ecvzUAm7+xWJm/HqGXv33Zlb/NAZS/DxqSv0MikL9oGo6/fwKMv4faib+Booe/bFqFv0kCg78YmoC/AACAv6gXe79QL3a/+EZxv6BebL9Idme/741iv5elXb8/vVi/59RTv4/sTr83BEq/3xtFv4czQL8vSzu/12I2v396Mb8nkiy/zqknv3bBIr8e2R2/xvAYv24IFL8WIA+/vjcKv2ZPBb8OZwC/a/32vrss7b4LXOO+W4vZvqu6z7766cW+Shm8vppIsr7qd6i+OqeevonWlL7ZBYu+KTWBvvLIbr6SJ1u+MYZHvtHkM75xQyC+EKIMvmAB8r2fvsq93nujvTtyeL267Cm9cM62vG0bTruVR4M8TCkQPc2uXj0nmpY96Ny9Pakf5T01MQY+ldIZPvVzLT5WFUE+trZUPhdYaD53+Xs+bM2HPhyekT7Mbps+fD+lPiwQrz7c4Lg+jbHCPj2CzD7tUtY+nSPgPk306T7+xPM+rpX9Pi+zAz+Hmwg/34MNPzdsEj+PVBc/5zwcPz8lIT+YDSY/8PUqP0jeLz+gxjQ/+K45P1CXPj+of0M/AGhIP1hQTT+wOFI/CCFXP2EJXD+58WA/EdplP2nCaj/Bqm8/GZN0P3F7eT/JY34/AACAPw==",
          "dtype": "f4"
         },
         "y": {
          "bdata": "xr+fQKabn0B+b59ATzufQBn/nkDcup5AmG6eQEwankD5vZ1An1mdQD7tnEDVeJxAZfybQO53m0Bw65pA61aaQF66mUDKFZlAL2mYQI20l0Dk95ZAMzOWQHtmlUC8kZRA9rSTQCnQkkBU45FAeO6QQJXxj0Cr7I5Aud+NQMHKjEDBrYtAuYiKQKtbiUCWJohAeemGQFWkhUAqV4RA9wGDQL6kgUB9P4BAaqR9QMu5ekAfv3dAY7R0QJqZcUDBbm5A2zNrQOboZ0DjjWRA0SJhQLGnXUCCHFpARYFWQPrVUkCgGk9AN09LQMFzR0A8iENAqIw/QAaBO0BWZTdAlzkzQMr9LkDusSpABFYmQAzqIUAFbh1A7+EYQMxFFECamQ9AWd0KQAoRBkCtNAFAAAAAQJkH+z8W7/U/drbwP7ld6z/f5OU/6EvgP9WS2j+ludQ/V8DOP+2myD9mbcI/wxO8PwKatT8lAK8/K0aoPxRsoT/gcZo/j1eTPyEdjD+XwoQ/4I96P1haaz+W5Fs/mi5MP2U4PD/2ASw/TosbP2zUCj+guvM+9UvRPtdcrj5F7Yo+gPpNPo8ZBT7f3mw9AACApQAAgKUAAIClAACApQAAgKUAAIClAACApQAAgKUAAIClAACApQAAgKUAAIClAACApQAAgKUAAIClAACApQAAgKUAAIClNQmbPGgHGT1oiGI9zQOVPYDCtz1MgNk9MT36PZj8DD4kWhw+PDcrPuKTOT4TcEc+0stUPh2nYT71AW4+Wtx5PiWbgj7kB4g+ajSNPrUgkj7HzJY+nzibPj5knz6jT6M+zvqmPsBlqj53kK0+9nqwPjolsz5Fj7U+Frm3Pq6iuT4MTLs+MLW8PhrevT7Lxr4+Qm+/PoDXvz6E/78+Tue/Pt6Ovz419r4+Uh2+PjYEvT7fqrs+TxG6PoY3uD6DHbY+RsOzPs8osT4fTq4+NTOrPhHYpz60PKQ+HWGgPk1FnD5C6Zc+/kyTPoFwjj7KU4k+2faDPlyzfD6T+HA+V71kPqgBWD6FxUo+7wg9PubLLj5pDiA+edAQPhYSAT5/puE96yfAPXConT0dUHQ9jE0rPV6SwDweGJo7AN5yqQDecqkA3nKpAN5yqQDecqkA3nKpAN5yqQDecqkA3nKpAN5yqQDecqkA3nKpAN5yqQDecqkA3nKpAN5yqQDecqkA3nKpAN5yqQDecqkA3nKpAN5yqQDecqkA3nKpAN5yqQDecqkA3nKpAN5yqQDecqkA3nKpAN5yqQDecqkA3nKpAN5yqQDecqkA3nKpAN5yqQDecqkA3nKpAN5yqQDecqkA3nKpAN5yqQDecqkA3nKpAN5yqQDecqkA3nKpAN5yqQDecqkA3nKpAN5yqQDecqkA3nKpAN5yqQDecqkA3nKpAN5yqQDecqkA3nKpAN5yqQDecqkA3nKpAN5yqQDecqkA3nKpAN5yqQDecqkA3nKpAN5yqQDecqkA3nKpAN5yqQDecqkA3nKpAN5yqQDecqkA3nKpAN5yqQDecqkA3nKpAN5yqQDecqkA3nKpAN5yqQDecqkA3nKpAN5yqQDecqkA3nKpAN5yqQDecqkA3nKpAN5yqQDecqkA3nKpAN5yqQDecqkA3nKpAN5yqQDecqkA3nKpAN5yqQDecqkA3nKpAN5yqQ==",
          "dtype": "f4"
         }
        },
        {
         "line": {
          "color": "red",
          "width": 2
         },
         "mode": "lines",
         "name": "Predicted trajectory",
         "opacity": 0.5,
         "type": "scatter",
         "x": {
          "bdata": "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",
          "dtype": "f8"
         },
         "y": {
          "bdata": "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",
          "dtype": "f8"
         }
        }
       ],
       "layout": {
        "height": 600,
        "legend": {
         "bgcolor": "rgba(255,255,255,0.8)",
         "bordercolor": "black",
         "borderwidth": 1,
         "x": 0.02,
         "xanchor": "left",
         "y": 0.98,
         "yanchor": "top"
        },
        "template": {
         "data": {
          "bar": [
           {
            "error_x": {
             "color": "#2a3f5f"
            },
            "error_y": {
             "color": "#2a3f5f"
            },
            "marker": {
             "line": {
              "color": "#E5ECF6",
              "width": 0.5
             },
             "pattern": {
              "fillmode": "overlay",
              "size": 10,
              "solidity": 0.2
             }
            },
            "type": "bar"
           }
          ],
          "barpolar": [
           {
            "marker": {
             "line": {
              "color": "#E5ECF6",
              "width": 0.5
             },
             "pattern": {
              "fillmode": "overlay",
              "size": 10,
              "solidity": 0.2
             }
            },
            "type": "barpolar"
           }
          ],
          "carpet": [
           {
            "aaxis": {
             "endlinecolor": "#2a3f5f",
             "gridcolor": "white",
             "linecolor": "white",
             "minorgridcolor": "white",
             "startlinecolor": "#2a3f5f"
            },
            "baxis": {
             "endlinecolor": "#2a3f5f",
             "gridcolor": "white",
             "linecolor": "white",
             "minorgridcolor": "white",
             "startlinecolor": "#2a3f5f"
            },
            "type": "carpet"
           }
          ],
          "choropleth": [
           {
            "colorbar": {
             "outlinewidth": 0,
             "ticks": ""
            },
            "type": "choropleth"
           }
          ],
          "contour": [
           {
            "colorbar": {
             "outlinewidth": 0,
             "ticks": ""
            },
            "colorscale": [
             [
              0,
              "#0d0887"
             ],
             [
              0.1111111111111111,
              "#46039f"
             ],
             [
              0.2222222222222222,
              "#7201a8"
             ],
             [
              0.3333333333333333,
              "#9c179e"
             ],
             [
              0.4444444444444444,
              "#bd3786"
             ],
             [
              0.5555555555555556,
              "#d8576b"
             ],
             [
              0.6666666666666666,
              "#ed7953"
             ],
             [
              0.7777777777777778,
              "#fb9f3a"
             ],
             [
              0.8888888888888888,
              "#fdca26"
             ],
             [
              1,
              "#f0f921"
             ]
            ],
            "type": "contour"
           }
          ],
          "contourcarpet": [
           {
            "colorbar": {
             "outlinewidth": 0,
             "ticks": ""
            },
            "type": "contourcarpet"
           }
          ],
          "heatmap": [
           {
            "colorbar": {
             "outlinewidth": 0,
             "ticks": ""
            },
            "colorscale": [
             [
              0,
              "#0d0887"
             ],
             [
              0.1111111111111111,
              "#46039f"
             ],
             [
              0.2222222222222222,
              "#7201a8"
             ],
             [
              0.3333333333333333,
              "#9c179e"
             ],
             [
              0.4444444444444444,
              "#bd3786"
             ],
             [
              0.5555555555555556,
              "#d8576b"
             ],
             [
              0.6666666666666666,
              "#ed7953"
             ],
             [
              0.7777777777777778,
              "#fb9f3a"
             ],
             [
              0.8888888888888888,
              "#fdca26"
             ],
             [
              1,
              "#f0f921"
             ]
            ],
            "type": "heatmap"
           }
          ],
          "histogram": [
           {
            "marker": {
             "pattern": {
              "fillmode": "overlay",
              "size": 10,
              "solidity": 0.2
             }
            },
            "type": "histogram"
           }
          ],
          "histogram2d": [
           {
            "colorbar": {
             "outlinewidth": 0,
             "ticks": ""
            },
            "colorscale": [
             [
              0,
              "#0d0887"
             ],
             [
              0.1111111111111111,
              "#46039f"
             ],
             [
              0.2222222222222222,
              "#7201a8"
             ],
             [
              0.3333333333333333,
              "#9c179e"
             ],
             [
              0.4444444444444444,
              "#bd3786"
             ],
             [
              0.5555555555555556,
              "#d8576b"
             ],
             [
              0.6666666666666666,
              "#ed7953"
             ],
             [
              0.7777777777777778,
              "#fb9f3a"
             ],
             [
              0.8888888888888888,
              "#fdca26"
             ],
             [
              1,
              "#f0f921"
             ]
            ],
            "type": "histogram2d"
           }
          ],
          "histogram2dcontour": [
           {
            "colorbar": {
             "outlinewidth": 0,
             "ticks": ""
            },
            "colorscale": [
             [
              0,
              "#0d0887"
             ],
             [
              0.1111111111111111,
              "#46039f"
             ],
             [
              0.2222222222222222,
              "#7201a8"
             ],
             [
              0.3333333333333333,
              "#9c179e"
             ],
             [
              0.4444444444444444,
              "#bd3786"
             ],
             [
              0.5555555555555556,
              "#d8576b"
             ],
             [
              0.6666666666666666,
              "#ed7953"
             ],
             [
              0.7777777777777778,
              "#fb9f3a"
             ],
             [
              0.8888888888888888,
              "#fdca26"
             ],
             [
              1,
              "#f0f921"
             ]
            ],
            "type": "histogram2dcontour"
           }
          ],
          "mesh3d": [
           {
            "colorbar": {
             "outlinewidth": 0,
             "ticks": ""
            },
            "type": "mesh3d"
           }
          ],
          "parcoords": [
           {
            "line": {
             "colorbar": {
              "outlinewidth": 0,
              "ticks": ""
             }
            },
            "type": "parcoords"
           }
          ],
          "pie": [
           {
            "automargin": true,
            "type": "pie"
           }
          ],
          "scatter": [
           {
            "fillpattern": {
             "fillmode": "overlay",
             "size": 10,
             "solidity": 0.2
            },
            "type": "scatter"
           }
          ],
          "scatter3d": [
           {
            "line": {
             "colorbar": {
              "outlinewidth": 0,
              "ticks": ""
             }
            },
            "marker": {
             "colorbar": {
              "outlinewidth": 0,
              "ticks": ""
             }
            },
            "type": "scatter3d"
           }
          ],
          "scattercarpet": [
           {
            "marker": {
             "colorbar": {
              "outlinewidth": 0,
              "ticks": ""
             }
            },
            "type": "scattercarpet"
           }
          ],
          "scattergeo": [
           {
            "marker": {
             "colorbar": {
              "outlinewidth": 0,
              "ticks": ""
             }
            },
            "type": "scattergeo"
           }
          ],
          "scattergl": [
           {
            "marker": {
             "colorbar": {
              "outlinewidth": 0,
              "ticks": ""
             }
            },
            "type": "scattergl"
           }
          ],
          "scattermap": [
           {
            "marker": {
             "colorbar": {
              "outlinewidth": 0,
              "ticks": ""
             }
            },
            "type": "scattermap"
           }
          ],
          "scattermapbox": [
           {
            "marker": {
             "colorbar": {
              "outlinewidth": 0,
              "ticks": ""
             }
            },
            "type": "scattermapbox"
           }
          ],
          "scatterpolar": [
           {
            "marker": {
             "colorbar": {
              "outlinewidth": 0,
              "ticks": ""
             }
            },
            "type": "scatterpolar"
           }
          ],
          "scatterpolargl": [
           {
            "marker": {
             "colorbar": {
              "outlinewidth": 0,
              "ticks": ""
             }
            },
            "type": "scatterpolargl"
           }
          ],
          "scatterternary": [
           {
            "marker": {
             "colorbar": {
              "outlinewidth": 0,
              "ticks": ""
             }
            },
            "type": "scatterternary"
           }
          ],
          "surface": [
           {
            "colorbar": {
             "outlinewidth": 0,
             "ticks": ""
            },
            "colorscale": [
             [
              0,
              "#0d0887"
             ],
             [
              0.1111111111111111,
              "#46039f"
             ],
             [
              0.2222222222222222,
              "#7201a8"
             ],
             [
              0.3333333333333333,
              "#9c179e"
             ],
             [
              0.4444444444444444,
              "#bd3786"
             ],
             [
              0.5555555555555556,
              "#d8576b"
             ],
             [
              0.6666666666666666,
              "#ed7953"
             ],
             [
              0.7777777777777778,
              "#fb9f3a"
             ],
             [
              0.8888888888888888,
              "#fdca26"
             ],
             [
              1,
              "#f0f921"
             ]
            ],
            "type": "surface"
           }
          ],
          "table": [
           {
            "cells": {
             "fill": {
              "color": "#EBF0F8"
             },
             "line": {
              "color": "white"
             }
            },
            "header": {
             "fill": {
              "color": "#C8D4E3"
             },
             "line": {
              "color": "white"
             }
            },
            "type": "table"
           }
          ]
         },
         "layout": {
          "annotationdefaults": {
           "arrowcolor": "#2a3f5f",
           "arrowhead": 0,
           "arrowwidth": 1
          },
          "autotypenumbers": "strict",
          "coloraxis": {
           "colorbar": {
            "outlinewidth": 0,
            "ticks": ""
           }
          },
          "colorscale": {
           "diverging": [
            [
             0,
             "#8e0152"
            ],
            [
             0.1,
             "#c51b7d"
            ],
            [
             0.2,
             "#de77ae"
            ],
            [
             0.3,
             "#f1b6da"
            ],
            [
             0.4,
             "#fde0ef"
            ],
            [
             0.5,
             "#f7f7f7"
            ],
            [
             0.6,
             "#e6f5d0"
            ],
            [
             0.7,
             "#b8e186"
            ],
            [
             0.8,
             "#7fbc41"
            ],
            [
             0.9,
             "#4d9221"
            ],
            [
             1,
             "#276419"
            ]
           ],
           "sequential": [
            [
             0,
             "#0d0887"
            ],
            [
             0.1111111111111111,
             "#46039f"
            ],
            [
             0.2222222222222222,
             "#7201a8"
            ],
            [
             0.3333333333333333,
             "#9c179e"
            ],
            [
             0.4444444444444444,
             "#bd3786"
            ],
            [
             0.5555555555555556,
             "#d8576b"
            ],
            [
             0.6666666666666666,
             "#ed7953"
            ],
            [
             0.7777777777777778,
             "#fb9f3a"
            ],
            [
             0.8888888888888888,
             "#fdca26"
            ],
            [
             1,
             "#f0f921"
            ]
           ],
           "sequentialminus": [
            [
             0,
             "#0d0887"
            ],
            [
             0.1111111111111111,
             "#46039f"
            ],
            [
             0.2222222222222222,
             "#7201a8"
            ],
            [
             0.3333333333333333,
             "#9c179e"
            ],
            [
             0.4444444444444444,
             "#bd3786"
            ],
            [
             0.5555555555555556,
             "#d8576b"
            ],
            [
             0.6666666666666666,
             "#ed7953"
            ],
            [
             0.7777777777777778,
             "#fb9f3a"
            ],
            [
             0.8888888888888888,
             "#fdca26"
            ],
            [
             1,
             "#f0f921"
            ]
           ]
          },
          "colorway": [
           "#636efa",
           "#EF553B",
           "#00cc96",
           "#ab63fa",
           "#FFA15A",
           "#19d3f3",
           "#FF6692",
           "#B6E880",
           "#FF97FF",
           "#FECB52"
          ],
          "font": {
           "color": "#2a3f5f"
          },
          "geo": {
           "bgcolor": "white",
           "lakecolor": "white",
           "landcolor": "#E5ECF6",
           "showlakes": true,
           "showland": true,
           "subunitcolor": "white"
          },
          "hoverlabel": {
           "align": "left"
          },
          "hovermode": "closest",
          "mapbox": {
           "style": "light"
          },
          "paper_bgcolor": "white",
          "plot_bgcolor": "#E5ECF6",
          "polar": {
           "angularaxis": {
            "gridcolor": "white",
            "linecolor": "white",
            "ticks": ""
           },
           "bgcolor": "#E5ECF6",
           "radialaxis": {
            "gridcolor": "white",
            "linecolor": "white",
            "ticks": ""
           }
          },
          "scene": {
           "xaxis": {
            "backgroundcolor": "#E5ECF6",
            "gridcolor": "white",
            "gridwidth": 2,
            "linecolor": "white",
            "showbackground": true,
            "ticks": "",
            "zerolinecolor": "white"
           },
           "yaxis": {
            "backgroundcolor": "#E5ECF6",
            "gridcolor": "white",
            "gridwidth": 2,
            "linecolor": "white",
            "showbackground": true,
            "ticks": "",
            "zerolinecolor": "white"
           },
           "zaxis": {
            "backgroundcolor": "#E5ECF6",
            "gridcolor": "white",
            "gridwidth": 2,
            "linecolor": "white",
            "showbackground": true,
            "ticks": "",
            "zerolinecolor": "white"
           }
          },
          "shapedefaults": {
           "line": {
            "color": "#2a3f5f"
           }
          },
          "ternary": {
           "aaxis": {
            "gridcolor": "white",
            "linecolor": "white",
            "ticks": ""
           },
           "baxis": {
            "gridcolor": "white",
            "linecolor": "white",
            "ticks": ""
           },
           "bgcolor": "#E5ECF6",
           "caxis": {
            "gridcolor": "white",
            "linecolor": "white",
            "ticks": ""
           }
          },
          "title": {
           "x": 0.05
          },
          "xaxis": {
           "automargin": true,
           "gridcolor": "white",
           "linecolor": "white",
           "ticks": "",
           "title": {
            "standoff": 15
           },
           "zerolinecolor": "white",
           "zerolinewidth": 2
          },
          "yaxis": {
           "automargin": true,
           "gridcolor": "white",
           "linecolor": "white",
           "ticks": "",
           "title": {
            "standoff": 15
           },
           "zerolinecolor": "white",
           "zerolinewidth": 2
          }
         }
        },
        "width": 800,
        "xaxis": {
         "title": {
          "text": "x_pos"
         }
        },
        "yaxis": {
         "scaleanchor": "x",
         "scaleratio": 1,
         "title": {
          "text": "y_pos"
         }
        }
       }
      }
     },
     "metadata": {},
     "output_type": "display_data"
    }
   ],
   "source": [
    "fig2 = go.Figure()\n",
    "\n",
    "# True trajectory\n",
    "fig2.add_trace(go.Scatter(x=y[:, 0], y=y[:, 1], mode='lines', name='True trajectory', line=dict(color='blue', width=2)))\n",
    "\n",
    "# Predicted trajectory with transparency\n",
    "fig2.add_trace(go.Scatter(x=y_pred[:, 0], y=y_pred[:, 1], mode='lines', name='Predicted trajectory', line=dict(color='red', width=2), opacity=0.5))\n",
    "\n",
    "fig2.update_layout(\n",
    "    # title=\"2D Trajectory: True vs Predicted\",\n",
    "    xaxis_title=\"x_pos\",\n",
    "    yaxis_title=\"y_pos\",\n",
    "    width=800,\n",
    "    height=600,\n",
    "    yaxis=dict(scaleanchor=\"x\", scaleratio=1),  # equal scaling\n",
    "    legend=dict(\n",
    "        x=0.02,  # 2% from left edge\n",
    "        y=0.98,  # 98% from bottom (near top)\n",
    "        xanchor='left',\n",
    "        yanchor='top',\n",
    "        bgcolor='rgba(255,255,255,0.8)',  # Semi-transparent white background\n",
    "        bordercolor='black',\n",
    "        borderwidth=1\n",
    "    )\n",
    ")\n",
    "fig2.show()\n"
   ]
  },
  {
   "cell_type": "code",
   "execution_count": 1130,
   "id": "a39d0fc3",
   "metadata": {},
   "outputs": [
    {
     "data": {
      "application/vnd.plotly.v1+json": {
       "config": {
        "plotlyServerURL": "https://plot.ly"
       },
       "data": [
        {
         "line": {
          "shape": "hv"
         },
         "mode": "lines+markers",
         "type": "scatter",
         "y": {
          "bdata": "AgICAgICAgICAgICAgICAgICAgICAgICAgICAgICAgICAgICAgICAgICAgICAgICAgICAgICAgICAgICAgICAgICAgICAgICAgICAgICAgICAgICAgICAgICAgICAgICAgICAgICAgICAgICAgICAgACAAICAgICAgICAgICAgICAAACAgICAgICAgICAgICAgICAgICAgICAgICAgICAgICAgICAgICAgICAgICAgICAgICAgICAgICAgICAgICAgICAgICAgICAgICAgICAgICAgICAgICAgICAgICAgICAgICAgICAgICAgICAgICAgICAgICAgICAgICAgICAgICAgICAgICAgICAgICAgICAgICAgICAgICAgICAgICAgICAgICAgICAgICAgICAgICAgICAgICAg==",
          "dtype": "i1"
         }
        }
       ],
       "layout": {
        "template": {
         "data": {
          "bar": [
           {
            "error_x": {
             "color": "#2a3f5f"
            },
            "error_y": {
             "color": "#2a3f5f"
            },
            "marker": {
             "line": {
              "color": "#E5ECF6",
              "width": 0.5
             },
             "pattern": {
              "fillmode": "overlay",
              "size": 10,
              "solidity": 0.2
             }
            },
            "type": "bar"
           }
          ],
          "barpolar": [
           {
            "marker": {
             "line": {
              "color": "#E5ECF6",
              "width": 0.5
             },
             "pattern": {
              "fillmode": "overlay",
              "size": 10,
              "solidity": 0.2
             }
            },
            "type": "barpolar"
           }
          ],
          "carpet": [
           {
            "aaxis": {
             "endlinecolor": "#2a3f5f",
             "gridcolor": "white",
             "linecolor": "white",
             "minorgridcolor": "white",
             "startlinecolor": "#2a3f5f"
            },
            "baxis": {
             "endlinecolor": "#2a3f5f",
             "gridcolor": "white",
             "linecolor": "white",
             "minorgridcolor": "white",
             "startlinecolor": "#2a3f5f"
            },
            "type": "carpet"
           }
          ],
          "choropleth": [
           {
            "colorbar": {
             "outlinewidth": 0,
             "ticks": ""
            },
            "type": "choropleth"
           }
          ],
          "contour": [
           {
            "colorbar": {
             "outlinewidth": 0,
             "ticks": ""
            },
            "colorscale": [
             [
              0,
              "#0d0887"
             ],
             [
              0.1111111111111111,
              "#46039f"
             ],
             [
              0.2222222222222222,
              "#7201a8"
             ],
             [
              0.3333333333333333,
              "#9c179e"
             ],
             [
              0.4444444444444444,
              "#bd3786"
             ],
             [
              0.5555555555555556,
              "#d8576b"
             ],
             [
              0.6666666666666666,
              "#ed7953"
             ],
             [
              0.7777777777777778,
              "#fb9f3a"
             ],
             [
              0.8888888888888888,
              "#fdca26"
             ],
             [
              1,
              "#f0f921"
             ]
            ],
            "type": "contour"
           }
          ],
          "contourcarpet": [
           {
            "colorbar": {
             "outlinewidth": 0,
             "ticks": ""
            },
            "type": "contourcarpet"
           }
          ],
          "heatmap": [
           {
            "colorbar": {
             "outlinewidth": 0,
             "ticks": ""
            },
            "colorscale": [
             [
              0,
              "#0d0887"
             ],
             [
              0.1111111111111111,
              "#46039f"
             ],
             [
              0.2222222222222222,
              "#7201a8"
             ],
             [
              0.3333333333333333,
              "#9c179e"
             ],
             [
              0.4444444444444444,
              "#bd3786"
             ],
             [
              0.5555555555555556,
              "#d8576b"
             ],
             [
              0.6666666666666666,
              "#ed7953"
             ],
             [
              0.7777777777777778,
              "#fb9f3a"
             ],
             [
              0.8888888888888888,
              "#fdca26"
             ],
             [
              1,
              "#f0f921"
             ]
            ],
            "type": "heatmap"
           }
          ],
          "histogram": [
           {
            "marker": {
             "pattern": {
              "fillmode": "overlay",
              "size": 10,
              "solidity": 0.2
             }
            },
            "type": "histogram"
           }
          ],
          "histogram2d": [
           {
            "colorbar": {
             "outlinewidth": 0,
             "ticks": ""
            },
            "colorscale": [
             [
              0,
              "#0d0887"
             ],
             [
              0.1111111111111111,
              "#46039f"
             ],
             [
              0.2222222222222222,
              "#7201a8"
             ],
             [
              0.3333333333333333,
              "#9c179e"
             ],
             [
              0.4444444444444444,
              "#bd3786"
             ],
             [
              0.5555555555555556,
              "#d8576b"
             ],
             [
              0.6666666666666666,
              "#ed7953"
             ],
             [
              0.7777777777777778,
              "#fb9f3a"
             ],
             [
              0.8888888888888888,
              "#fdca26"
             ],
             [
              1,
              "#f0f921"
             ]
            ],
            "type": "histogram2d"
           }
          ],
          "histogram2dcontour": [
           {
            "colorbar": {
             "outlinewidth": 0,
             "ticks": ""
            },
            "colorscale": [
             [
              0,
              "#0d0887"
             ],
             [
              0.1111111111111111,
              "#46039f"
             ],
             [
              0.2222222222222222,
              "#7201a8"
             ],
             [
              0.3333333333333333,
              "#9c179e"
             ],
             [
              0.4444444444444444,
              "#bd3786"
             ],
             [
              0.5555555555555556,
              "#d8576b"
             ],
             [
              0.6666666666666666,
              "#ed7953"
             ],
             [
              0.7777777777777778,
              "#fb9f3a"
             ],
             [
              0.8888888888888888,
              "#fdca26"
             ],
             [
              1,
              "#f0f921"
             ]
            ],
            "type": "histogram2dcontour"
           }
          ],
          "mesh3d": [
           {
            "colorbar": {
             "outlinewidth": 0,
             "ticks": ""
            },
            "type": "mesh3d"
           }
          ],
          "parcoords": [
           {
            "line": {
             "colorbar": {
              "outlinewidth": 0,
              "ticks": ""
             }
            },
            "type": "parcoords"
           }
          ],
          "pie": [
           {
            "automargin": true,
            "type": "pie"
           }
          ],
          "scatter": [
           {
            "fillpattern": {
             "fillmode": "overlay",
             "size": 10,
             "solidity": 0.2
            },
            "type": "scatter"
           }
          ],
          "scatter3d": [
           {
            "line": {
             "colorbar": {
              "outlinewidth": 0,
              "ticks": ""
             }
            },
            "marker": {
             "colorbar": {
              "outlinewidth": 0,
              "ticks": ""
             }
            },
            "type": "scatter3d"
           }
          ],
          "scattercarpet": [
           {
            "marker": {
             "colorbar": {
              "outlinewidth": 0,
              "ticks": ""
             }
            },
            "type": "scattercarpet"
           }
          ],
          "scattergeo": [
           {
            "marker": {
             "colorbar": {
              "outlinewidth": 0,
              "ticks": ""
             }
            },
            "type": "scattergeo"
           }
          ],
          "scattergl": [
           {
            "marker": {
             "colorbar": {
              "outlinewidth": 0,
              "ticks": ""
             }
            },
            "type": "scattergl"
           }
          ],
          "scattermap": [
           {
            "marker": {
             "colorbar": {
              "outlinewidth": 0,
              "ticks": ""
             }
            },
            "type": "scattermap"
           }
          ],
          "scattermapbox": [
           {
            "marker": {
             "colorbar": {
              "outlinewidth": 0,
              "ticks": ""
             }
            },
            "type": "scattermapbox"
           }
          ],
          "scatterpolar": [
           {
            "marker": {
             "colorbar": {
              "outlinewidth": 0,
              "ticks": ""
             }
            },
            "type": "scatterpolar"
           }
          ],
          "scatterpolargl": [
           {
            "marker": {
             "colorbar": {
              "outlinewidth": 0,
              "ticks": ""
             }
            },
            "type": "scatterpolargl"
           }
          ],
          "scatterternary": [
           {
            "marker": {
             "colorbar": {
              "outlinewidth": 0,
              "ticks": ""
             }
            },
            "type": "scatterternary"
           }
          ],
          "surface": [
           {
            "colorbar": {
             "outlinewidth": 0,
             "ticks": ""
            },
            "colorscale": [
             [
              0,
              "#0d0887"
             ],
             [
              0.1111111111111111,
              "#46039f"
             ],
             [
              0.2222222222222222,
              "#7201a8"
             ],
             [
              0.3333333333333333,
              "#9c179e"
             ],
             [
              0.4444444444444444,
              "#bd3786"
             ],
             [
              0.5555555555555556,
              "#d8576b"
             ],
             [
              0.6666666666666666,
              "#ed7953"
             ],
             [
              0.7777777777777778,
              "#fb9f3a"
             ],
             [
              0.8888888888888888,
              "#fdca26"
             ],
             [
              1,
              "#f0f921"
             ]
            ],
            "type": "surface"
           }
          ],
          "table": [
           {
            "cells": {
             "fill": {
              "color": "#EBF0F8"
             },
             "line": {
              "color": "white"
             }
            },
            "header": {
             "fill": {
              "color": "#C8D4E3"
             },
             "line": {
              "color": "white"
             }
            },
            "type": "table"
           }
          ]
         },
         "layout": {
          "annotationdefaults": {
           "arrowcolor": "#2a3f5f",
           "arrowhead": 0,
           "arrowwidth": 1
          },
          "autotypenumbers": "strict",
          "coloraxis": {
           "colorbar": {
            "outlinewidth": 0,
            "ticks": ""
           }
          },
          "colorscale": {
           "diverging": [
            [
             0,
             "#8e0152"
            ],
            [
             0.1,
             "#c51b7d"
            ],
            [
             0.2,
             "#de77ae"
            ],
            [
             0.3,
             "#f1b6da"
            ],
            [
             0.4,
             "#fde0ef"
            ],
            [
             0.5,
             "#f7f7f7"
            ],
            [
             0.6,
             "#e6f5d0"
            ],
            [
             0.7,
             "#b8e186"
            ],
            [
             0.8,
             "#7fbc41"
            ],
            [
             0.9,
             "#4d9221"
            ],
            [
             1,
             "#276419"
            ]
           ],
           "sequential": [
            [
             0,
             "#0d0887"
            ],
            [
             0.1111111111111111,
             "#46039f"
            ],
            [
             0.2222222222222222,
             "#7201a8"
            ],
            [
             0.3333333333333333,
             "#9c179e"
            ],
            [
             0.4444444444444444,
             "#bd3786"
            ],
            [
             0.5555555555555556,
             "#d8576b"
            ],
            [
             0.6666666666666666,
             "#ed7953"
            ],
            [
             0.7777777777777778,
             "#fb9f3a"
            ],
            [
             0.8888888888888888,
             "#fdca26"
            ],
            [
             1,
             "#f0f921"
            ]
           ],
           "sequentialminus": [
            [
             0,
             "#0d0887"
            ],
            [
             0.1111111111111111,
             "#46039f"
            ],
            [
             0.2222222222222222,
             "#7201a8"
            ],
            [
             0.3333333333333333,
             "#9c179e"
            ],
            [
             0.4444444444444444,
             "#bd3786"
            ],
            [
             0.5555555555555556,
             "#d8576b"
            ],
            [
             0.6666666666666666,
             "#ed7953"
            ],
            [
             0.7777777777777778,
             "#fb9f3a"
            ],
            [
             0.8888888888888888,
             "#fdca26"
            ],
            [
             1,
             "#f0f921"
            ]
           ]
          },
          "colorway": [
           "#636efa",
           "#EF553B",
           "#00cc96",
           "#ab63fa",
           "#FFA15A",
           "#19d3f3",
           "#FF6692",
           "#B6E880",
           "#FF97FF",
           "#FECB52"
          ],
          "font": {
           "color": "#2a3f5f"
          },
          "geo": {
           "bgcolor": "white",
           "lakecolor": "white",
           "landcolor": "#E5ECF6",
           "showlakes": true,
           "showland": true,
           "subunitcolor": "white"
          },
          "hoverlabel": {
           "align": "left"
          },
          "hovermode": "closest",
          "mapbox": {
           "style": "light"
          },
          "paper_bgcolor": "white",
          "plot_bgcolor": "#E5ECF6",
          "polar": {
           "angularaxis": {
            "gridcolor": "white",
            "linecolor": "white",
            "ticks": ""
           },
           "bgcolor": "#E5ECF6",
           "radialaxis": {
            "gridcolor": "white",
            "linecolor": "white",
            "ticks": ""
           }
          },
          "scene": {
           "xaxis": {
            "backgroundcolor": "#E5ECF6",
            "gridcolor": "white",
            "gridwidth": 2,
            "linecolor": "white",
            "showbackground": true,
            "ticks": "",
            "zerolinecolor": "white"
           },
           "yaxis": {
            "backgroundcolor": "#E5ECF6",
            "gridcolor": "white",
            "gridwidth": 2,
            "linecolor": "white",
            "showbackground": true,
            "ticks": "",
            "zerolinecolor": "white"
           },
           "zaxis": {
            "backgroundcolor": "#E5ECF6",
            "gridcolor": "white",
            "gridwidth": 2,
            "linecolor": "white",
            "showbackground": true,
            "ticks": "",
            "zerolinecolor": "white"
           }
          },
          "shapedefaults": {
           "line": {
            "color": "#2a3f5f"
           }
          },
          "ternary": {
           "aaxis": {
            "gridcolor": "white",
            "linecolor": "white",
            "ticks": ""
           },
           "baxis": {
            "gridcolor": "white",
            "linecolor": "white",
            "ticks": ""
           },
           "bgcolor": "#E5ECF6",
           "caxis": {
            "gridcolor": "white",
            "linecolor": "white",
            "ticks": ""
           }
          },
          "title": {
           "x": 0.05
          },
          "xaxis": {
           "automargin": true,
           "gridcolor": "white",
           "linecolor": "white",
           "ticks": "",
           "title": {
            "standoff": 15
           },
           "zerolinecolor": "white",
           "zerolinewidth": 2
          },
          "yaxis": {
           "automargin": true,
           "gridcolor": "white",
           "linecolor": "white",
           "ticks": "",
           "title": {
            "standoff": 15
           },
           "zerolinecolor": "white",
           "zerolinewidth": 2
          }
         }
        },
        "title": {
         "text": "Mode Assignment Sequence"
        },
        "xaxis": {
         "title": {
          "text": "Time step"
         }
        },
        "yaxis": {
         "dtick": 1,
         "title": {
          "text": "Mode"
         }
        }
       }
      }
     },
     "metadata": {},
     "output_type": "display_data"
    }
   ],
   "source": [
    "import plotly.graph_objects as go\n",
    "\n",
    "fig = go.Figure()\n",
    "fig.add_trace(go.Scatter(y=mode_assignments, mode='lines+markers', line=dict(shape='hv')))\n",
    "fig.update_layout(\n",
    "    title=\"Mode Assignment Sequence\",\n",
    "    xaxis_title=\"Time step\",\n",
    "    yaxis_title=\"Mode\",\n",
    "    yaxis=dict(dtick=1)  # ensure integer ticks\n",
    ")\n",
    "fig.show()\n"
   ]
  },
  {
   "cell_type": "code",
   "execution_count": 1131,
   "id": "2db6ca79",
   "metadata": {},
   "outputs": [
    {
     "data": {
      "application/vnd.plotly.v1+json": {
       "config": {
        "plotlyServerURL": "https://plot.ly"
       },
       "data": [
        {
         "fill": "toself",
         "fillcolor": "rgb(77,175,74)",
         "hovertemplate": "Mode 2<br>Start: 0<br>End: 111<br>Duration: 112<extra></extra>",
         "line": {
          "color": "rgb(77,175,74)",
          "width": 1
         },
         "mode": "none",
         "name": "Mode 2",
         "showlegend": false,
         "type": "scatter",
         "x": [
          0,
          111,
          111,
          0,
          0
         ],
         "y": [
          1.6,
          1.6,
          2.4,
          2.4,
          1.6
         ]
        },
        {
         "fill": "toself",
         "fillcolor": "rgb(228,26,28)",
         "hovertemplate": "Mode 0<br>Start: 112<br>End: 112<br>Duration: 1<extra></extra>",
         "line": {
          "color": "rgb(228,26,28)",
          "width": 1
         },
         "mode": "none",
         "name": "Mode 0",
         "showlegend": false,
         "type": "scatter",
         "x": [
          112,
          112,
          112,
          112,
          112
         ],
         "y": [
          -0.4,
          -0.4,
          0.4,
          0.4,
          -0.4
         ]
        },
        {
         "fill": "toself",
         "fillcolor": "rgb(77,175,74)",
         "hovertemplate": "Mode 2<br>Start: 113<br>End: 113<br>Duration: 1<extra></extra>",
         "line": {
          "color": "rgb(77,175,74)",
          "width": 1
         },
         "mode": "none",
         "name": "Mode 2",
         "showlegend": false,
         "type": "scatter",
         "x": [
          113,
          113,
          113,
          113,
          113
         ],
         "y": [
          1.6,
          1.6,
          2.4,
          2.4,
          1.6
         ]
        },
        {
         "fill": "toself",
         "fillcolor": "rgb(228,26,28)",
         "hovertemplate": "Mode 0<br>Start: 114<br>End: 114<br>Duration: 1<extra></extra>",
         "line": {
          "color": "rgb(228,26,28)",
          "width": 1
         },
         "mode": "none",
         "name": "Mode 0",
         "showlegend": false,
         "type": "scatter",
         "x": [
          114,
          114,
          114,
          114,
          114
         ],
         "y": [
          -0.4,
          -0.4,
          0.4,
          0.4,
          -0.4
         ]
        },
        {
         "fill": "toself",
         "fillcolor": "rgb(77,175,74)",
         "hovertemplate": "Mode 2<br>Start: 115<br>End: 128<br>Duration: 14<extra></extra>",
         "line": {
          "color": "rgb(77,175,74)",
          "width": 1
         },
         "mode": "none",
         "name": "Mode 2",
         "showlegend": false,
         "type": "scatter",
         "x": [
          115,
          128,
          128,
          115,
          115
         ],
         "y": [
          1.6,
          1.6,
          2.4,
          2.4,
          1.6
         ]
        },
        {
         "fill": "toself",
         "fillcolor": "rgb(228,26,28)",
         "hovertemplate": "Mode 0<br>Start: 129<br>End: 130<br>Duration: 2<extra></extra>",
         "line": {
          "color": "rgb(228,26,28)",
          "width": 1
         },
         "mode": "none",
         "name": "Mode 0",
         "showlegend": false,
         "type": "scatter",
         "x": [
          129,
          130,
          130,
          129,
          129
         ],
         "y": [
          -0.4,
          -0.4,
          0.4,
          0.4,
          -0.4
         ]
        },
        {
         "fill": "toself",
         "fillcolor": "rgb(77,175,74)",
         "hovertemplate": "Mode 2<br>Start: 131<br>End: 312<br>Duration: 182<extra></extra>",
         "line": {
          "color": "rgb(77,175,74)",
          "width": 1
         },
         "mode": "none",
         "name": "Mode 2",
         "showlegend": false,
         "type": "scatter",
         "x": [
          131,
          312,
          312,
          131,
          131
         ],
         "y": [
          1.6,
          1.6,
          2.4,
          2.4,
          1.6
         ]
        },
        {
         "marker": {
          "color": "rgb(228,26,28)",
          "size": 15,
          "symbol": "square"
         },
         "mode": "markers",
         "name": "Mode 0",
         "type": "scatter",
         "x": [
          null
         ],
         "y": [
          null
         ]
        },
        {
         "marker": {
          "color": "rgb(77,175,74)",
          "size": 15,
          "symbol": "square"
         },
         "mode": "markers",
         "name": "Mode 2",
         "type": "scatter",
         "x": [
          null
         ],
         "y": [
          null
         ]
        }
       ],
       "layout": {
        "height": 400,
        "template": {
         "data": {
          "bar": [
           {
            "error_x": {
             "color": "#2a3f5f"
            },
            "error_y": {
             "color": "#2a3f5f"
            },
            "marker": {
             "line": {
              "color": "#E5ECF6",
              "width": 0.5
             },
             "pattern": {
              "fillmode": "overlay",
              "size": 10,
              "solidity": 0.2
             }
            },
            "type": "bar"
           }
          ],
          "barpolar": [
           {
            "marker": {
             "line": {
              "color": "#E5ECF6",
              "width": 0.5
             },
             "pattern": {
              "fillmode": "overlay",
              "size": 10,
              "solidity": 0.2
             }
            },
            "type": "barpolar"
           }
          ],
          "carpet": [
           {
            "aaxis": {
             "endlinecolor": "#2a3f5f",
             "gridcolor": "white",
             "linecolor": "white",
             "minorgridcolor": "white",
             "startlinecolor": "#2a3f5f"
            },
            "baxis": {
             "endlinecolor": "#2a3f5f",
             "gridcolor": "white",
             "linecolor": "white",
             "minorgridcolor": "white",
             "startlinecolor": "#2a3f5f"
            },
            "type": "carpet"
           }
          ],
          "choropleth": [
           {
            "colorbar": {
             "outlinewidth": 0,
             "ticks": ""
            },
            "type": "choropleth"
           }
          ],
          "contour": [
           {
            "colorbar": {
             "outlinewidth": 0,
             "ticks": ""
            },
            "colorscale": [
             [
              0,
              "#0d0887"
             ],
             [
              0.1111111111111111,
              "#46039f"
             ],
             [
              0.2222222222222222,
              "#7201a8"
             ],
             [
              0.3333333333333333,
              "#9c179e"
             ],
             [
              0.4444444444444444,
              "#bd3786"
             ],
             [
              0.5555555555555556,
              "#d8576b"
             ],
             [
              0.6666666666666666,
              "#ed7953"
             ],
             [
              0.7777777777777778,
              "#fb9f3a"
             ],
             [
              0.8888888888888888,
              "#fdca26"
             ],
             [
              1,
              "#f0f921"
             ]
            ],
            "type": "contour"
           }
          ],
          "contourcarpet": [
           {
            "colorbar": {
             "outlinewidth": 0,
             "ticks": ""
            },
            "type": "contourcarpet"
           }
          ],
          "heatmap": [
           {
            "colorbar": {
             "outlinewidth": 0,
             "ticks": ""
            },
            "colorscale": [
             [
              0,
              "#0d0887"
             ],
             [
              0.1111111111111111,
              "#46039f"
             ],
             [
              0.2222222222222222,
              "#7201a8"
             ],
             [
              0.3333333333333333,
              "#9c179e"
             ],
             [
              0.4444444444444444,
              "#bd3786"
             ],
             [
              0.5555555555555556,
              "#d8576b"
             ],
             [
              0.6666666666666666,
              "#ed7953"
             ],
             [
              0.7777777777777778,
              "#fb9f3a"
             ],
             [
              0.8888888888888888,
              "#fdca26"
             ],
             [
              1,
              "#f0f921"
             ]
            ],
            "type": "heatmap"
           }
          ],
          "histogram": [
           {
            "marker": {
             "pattern": {
              "fillmode": "overlay",
              "size": 10,
              "solidity": 0.2
             }
            },
            "type": "histogram"
           }
          ],
          "histogram2d": [
           {
            "colorbar": {
             "outlinewidth": 0,
             "ticks": ""
            },
            "colorscale": [
             [
              0,
              "#0d0887"
             ],
             [
              0.1111111111111111,
              "#46039f"
             ],
             [
              0.2222222222222222,
              "#7201a8"
             ],
             [
              0.3333333333333333,
              "#9c179e"
             ],
             [
              0.4444444444444444,
              "#bd3786"
             ],
             [
              0.5555555555555556,
              "#d8576b"
             ],
             [
              0.6666666666666666,
              "#ed7953"
             ],
             [
              0.7777777777777778,
              "#fb9f3a"
             ],
             [
              0.8888888888888888,
              "#fdca26"
             ],
             [
              1,
              "#f0f921"
             ]
            ],
            "type": "histogram2d"
           }
          ],
          "histogram2dcontour": [
           {
            "colorbar": {
             "outlinewidth": 0,
             "ticks": ""
            },
            "colorscale": [
             [
              0,
              "#0d0887"
             ],
             [
              0.1111111111111111,
              "#46039f"
             ],
             [
              0.2222222222222222,
              "#7201a8"
             ],
             [
              0.3333333333333333,
              "#9c179e"
             ],
             [
              0.4444444444444444,
              "#bd3786"
             ],
             [
              0.5555555555555556,
              "#d8576b"
             ],
             [
              0.6666666666666666,
              "#ed7953"
             ],
             [
              0.7777777777777778,
              "#fb9f3a"
             ],
             [
              0.8888888888888888,
              "#fdca26"
             ],
             [
              1,
              "#f0f921"
             ]
            ],
            "type": "histogram2dcontour"
           }
          ],
          "mesh3d": [
           {
            "colorbar": {
             "outlinewidth": 0,
             "ticks": ""
            },
            "type": "mesh3d"
           }
          ],
          "parcoords": [
           {
            "line": {
             "colorbar": {
              "outlinewidth": 0,
              "ticks": ""
             }
            },
            "type": "parcoords"
           }
          ],
          "pie": [
           {
            "automargin": true,
            "type": "pie"
           }
          ],
          "scatter": [
           {
            "fillpattern": {
             "fillmode": "overlay",
             "size": 10,
             "solidity": 0.2
            },
            "type": "scatter"
           }
          ],
          "scatter3d": [
           {
            "line": {
             "colorbar": {
              "outlinewidth": 0,
              "ticks": ""
             }
            },
            "marker": {
             "colorbar": {
              "outlinewidth": 0,
              "ticks": ""
             }
            },
            "type": "scatter3d"
           }
          ],
          "scattercarpet": [
           {
            "marker": {
             "colorbar": {
              "outlinewidth": 0,
              "ticks": ""
             }
            },
            "type": "scattercarpet"
           }
          ],
          "scattergeo": [
           {
            "marker": {
             "colorbar": {
              "outlinewidth": 0,
              "ticks": ""
             }
            },
            "type": "scattergeo"
           }
          ],
          "scattergl": [
           {
            "marker": {
             "colorbar": {
              "outlinewidth": 0,
              "ticks": ""
             }
            },
            "type": "scattergl"
           }
          ],
          "scattermap": [
           {
            "marker": {
             "colorbar": {
              "outlinewidth": 0,
              "ticks": ""
             }
            },
            "type": "scattermap"
           }
          ],
          "scattermapbox": [
           {
            "marker": {
             "colorbar": {
              "outlinewidth": 0,
              "ticks": ""
             }
            },
            "type": "scattermapbox"
           }
          ],
          "scatterpolar": [
           {
            "marker": {
             "colorbar": {
              "outlinewidth": 0,
              "ticks": ""
             }
            },
            "type": "scatterpolar"
           }
          ],
          "scatterpolargl": [
           {
            "marker": {
             "colorbar": {
              "outlinewidth": 0,
              "ticks": ""
             }
            },
            "type": "scatterpolargl"
           }
          ],
          "scatterternary": [
           {
            "marker": {
             "colorbar": {
              "outlinewidth": 0,
              "ticks": ""
             }
            },
            "type": "scatterternary"
           }
          ],
          "surface": [
           {
            "colorbar": {
             "outlinewidth": 0,
             "ticks": ""
            },
            "colorscale": [
             [
              0,
              "#0d0887"
             ],
             [
              0.1111111111111111,
              "#46039f"
             ],
             [
              0.2222222222222222,
              "#7201a8"
             ],
             [
              0.3333333333333333,
              "#9c179e"
             ],
             [
              0.4444444444444444,
              "#bd3786"
             ],
             [
              0.5555555555555556,
              "#d8576b"
             ],
             [
              0.6666666666666666,
              "#ed7953"
             ],
             [
              0.7777777777777778,
              "#fb9f3a"
             ],
             [
              0.8888888888888888,
              "#fdca26"
             ],
             [
              1,
              "#f0f921"
             ]
            ],
            "type": "surface"
           }
          ],
          "table": [
           {
            "cells": {
             "fill": {
              "color": "#EBF0F8"
             },
             "line": {
              "color": "white"
             }
            },
            "header": {
             "fill": {
              "color": "#C8D4E3"
             },
             "line": {
              "color": "white"
             }
            },
            "type": "table"
           }
          ]
         },
         "layout": {
          "annotationdefaults": {
           "arrowcolor": "#2a3f5f",
           "arrowhead": 0,
           "arrowwidth": 1
          },
          "autotypenumbers": "strict",
          "coloraxis": {
           "colorbar": {
            "outlinewidth": 0,
            "ticks": ""
           }
          },
          "colorscale": {
           "diverging": [
            [
             0,
             "#8e0152"
            ],
            [
             0.1,
             "#c51b7d"
            ],
            [
             0.2,
             "#de77ae"
            ],
            [
             0.3,
             "#f1b6da"
            ],
            [
             0.4,
             "#fde0ef"
            ],
            [
             0.5,
             "#f7f7f7"
            ],
            [
             0.6,
             "#e6f5d0"
            ],
            [
             0.7,
             "#b8e186"
            ],
            [
             0.8,
             "#7fbc41"
            ],
            [
             0.9,
             "#4d9221"
            ],
            [
             1,
             "#276419"
            ]
           ],
           "sequential": [
            [
             0,
             "#0d0887"
            ],
            [
             0.1111111111111111,
             "#46039f"
            ],
            [
             0.2222222222222222,
             "#7201a8"
            ],
            [
             0.3333333333333333,
             "#9c179e"
            ],
            [
             0.4444444444444444,
             "#bd3786"
            ],
            [
             0.5555555555555556,
             "#d8576b"
            ],
            [
             0.6666666666666666,
             "#ed7953"
            ],
            [
             0.7777777777777778,
             "#fb9f3a"
            ],
            [
             0.8888888888888888,
             "#fdca26"
            ],
            [
             1,
             "#f0f921"
            ]
           ],
           "sequentialminus": [
            [
             0,
             "#0d0887"
            ],
            [
             0.1111111111111111,
             "#46039f"
            ],
            [
             0.2222222222222222,
             "#7201a8"
            ],
            [
             0.3333333333333333,
             "#9c179e"
            ],
            [
             0.4444444444444444,
             "#bd3786"
            ],
            [
             0.5555555555555556,
             "#d8576b"
            ],
            [
             0.6666666666666666,
             "#ed7953"
            ],
            [
             0.7777777777777778,
             "#fb9f3a"
            ],
            [
             0.8888888888888888,
             "#fdca26"
            ],
            [
             1,
             "#f0f921"
            ]
           ]
          },
          "colorway": [
           "#636efa",
           "#EF553B",
           "#00cc96",
           "#ab63fa",
           "#FFA15A",
           "#19d3f3",
           "#FF6692",
           "#B6E880",
           "#FF97FF",
           "#FECB52"
          ],
          "font": {
           "color": "#2a3f5f"
          },
          "geo": {
           "bgcolor": "white",
           "lakecolor": "white",
           "landcolor": "#E5ECF6",
           "showlakes": true,
           "showland": true,
           "subunitcolor": "white"
          },
          "hoverlabel": {
           "align": "left"
          },
          "hovermode": "closest",
          "mapbox": {
           "style": "light"
          },
          "paper_bgcolor": "white",
          "plot_bgcolor": "#E5ECF6",
          "polar": {
           "angularaxis": {
            "gridcolor": "white",
            "linecolor": "white",
            "ticks": ""
           },
           "bgcolor": "#E5ECF6",
           "radialaxis": {
            "gridcolor": "white",
            "linecolor": "white",
            "ticks": ""
           }
          },
          "scene": {
           "xaxis": {
            "backgroundcolor": "#E5ECF6",
            "gridcolor": "white",
            "gridwidth": 2,
            "linecolor": "white",
            "showbackground": true,
            "ticks": "",
            "zerolinecolor": "white"
           },
           "yaxis": {
            "backgroundcolor": "#E5ECF6",
            "gridcolor": "white",
            "gridwidth": 2,
            "linecolor": "white",
            "showbackground": true,
            "ticks": "",
            "zerolinecolor": "white"
           },
           "zaxis": {
            "backgroundcolor": "#E5ECF6",
            "gridcolor": "white",
            "gridwidth": 2,
            "linecolor": "white",
            "showbackground": true,
            "ticks": "",
            "zerolinecolor": "white"
           }
          },
          "shapedefaults": {
           "line": {
            "color": "#2a3f5f"
           }
          },
          "ternary": {
           "aaxis": {
            "gridcolor": "white",
            "linecolor": "white",
            "ticks": ""
           },
           "baxis": {
            "gridcolor": "white",
            "linecolor": "white",
            "ticks": ""
           },
           "bgcolor": "#E5ECF6",
           "caxis": {
            "gridcolor": "white",
            "linecolor": "white",
            "ticks": ""
           }
          },
          "title": {
           "x": 0.05
          },
          "xaxis": {
           "automargin": true,
           "gridcolor": "white",
           "linecolor": "white",
           "ticks": "",
           "title": {
            "standoff": 15
           },
           "zerolinecolor": "white",
           "zerolinewidth": 2
          },
          "yaxis": {
           "automargin": true,
           "gridcolor": "white",
           "linecolor": "white",
           "ticks": "",
           "title": {
            "standoff": 15
           },
           "zerolinecolor": "white",
           "zerolinewidth": 2
          }
         }
        },
        "title": {
         "text": "Mode Activity Timeline (Filled Bars)"
        },
        "xaxis": {
         "title": {
          "text": "Time Step"
         }
        },
        "yaxis": {
         "dtick": 1,
         "range": [
          -0.5,
          2.5
         ],
         "title": {
          "text": "Mode"
         }
        }
       }
      }
     },
     "metadata": {},
     "output_type": "display_data"
    }
   ],
   "source": [
    "import plotly.graph_objects as go\n",
    "import plotly.express as px\n",
    "\n",
    "# Function to find continuous segments of each mode\n",
    "def find_mode_segments(mode_assignments):\n",
    "    \"\"\"Find start and end times for each continuous mode segment.\"\"\"\n",
    "    segments = []\n",
    "    current_mode = mode_assignments[0]\n",
    "    start_time = 0\n",
    "    \n",
    "    for i in range(1, len(mode_assignments)):\n",
    "        if mode_assignments[i] != current_mode:\n",
    "            # End of current segment\n",
    "            segments.append({\n",
    "                'mode': current_mode,\n",
    "                'start': start_time,\n",
    "                'end': i - 1,\n",
    "                'duration': i - start_time\n",
    "            })\n",
    "            # Start of new segment\n",
    "            current_mode = mode_assignments[i]\n",
    "            start_time = i\n",
    "    \n",
    "    # Add the final segment\n",
    "    segments.append({\n",
    "        'mode': current_mode,\n",
    "        'start': start_time,\n",
    "        'end': len(mode_assignments) - 1,\n",
    "        'duration': len(mode_assignments) - start_time\n",
    "    })\n",
    "    \n",
    "    return segments\n",
    "\n",
    "# Get mode segments\n",
    "segments = find_mode_segments(mode_assignments)\n",
    "# Create filled rectangles for each mode segment\n",
    "fig = go.Figure()\n",
    "\n",
    "segments = find_mode_segments(mode_assignments)\n",
    "colors = px.colors.qualitative.Set1  # Use a nice color palette\n",
    "\n",
    "for segment in segments:\n",
    "    mode = segment['mode']\n",
    "    color = colors[mode % len(colors)]\n",
    "    \n",
    "    # Create a filled rectangle\n",
    "    fig.add_trace(go.Scatter(\n",
    "        x=[segment['start'], segment['end'], segment['end'], segment['start'], segment['start']],\n",
    "        y=[mode - 0.4, mode - 0.4, mode + 0.4, mode + 0.4, mode - 0.4],\n",
    "        fill='toself',\n",
    "        fillcolor=color,\n",
    "        line=dict(color=color, width=1),\n",
    "        mode='none',  # Add this line to remove markers/points\n",
    "        name=f'Mode {mode}',\n",
    "        showlegend=False,\n",
    "        hovertemplate=f'Mode {mode}<br>Start: {segment[\"start\"]}<br>End: {segment[\"end\"]}<br>Duration: {segment[\"duration\"]}<extra></extra>'\n",
    "    ))\n",
    "\n",
    "# Add legend\n",
    "unique_modes = sorted(set(mode_assignments))\n",
    "for mode in unique_modes:\n",
    "    fig.add_trace(go.Scatter(\n",
    "        x=[None], y=[None],\n",
    "        mode='markers',\n",
    "        marker=dict(size=15, color=colors[mode % len(colors)], symbol='square'),\n",
    "        name=f'Mode {mode}'\n",
    "    ))\n",
    "\n",
    "fig.update_layout(\n",
    "    title=\"Mode Activity Timeline (Filled Bars)\",\n",
    "    xaxis_title=\"Time Step\",\n",
    "    yaxis_title=\"Mode\",\n",
    "    yaxis=dict(\n",
    "        dtick=1,\n",
    "        range=[-0.5, max(mode_assignments) + 0.5]\n",
    "    ),\n",
    "    height=400\n",
    ")\n",
    "\n",
    "fig.show()"
   ]
  }
 ],
 "metadata": {
  "kernelspec": {
   "display_name": "hybrid-sys-id",
   "language": "python",
   "name": "python3"
  },
  "language_info": {
   "codemirror_mode": {
    "name": "ipython",
    "version": 3
   },
   "file_extension": ".py",
   "mimetype": "text/x-python",
   "name": "python",
   "nbconvert_exporter": "python",
   "pygments_lexer": "ipython3",
   "version": "3.10.18"
  }
 },
 "nbformat": 4,
 "nbformat_minor": 5
}

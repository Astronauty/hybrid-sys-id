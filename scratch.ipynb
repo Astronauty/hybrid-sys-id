{
 "cells": [
  {
   "cell_type": "code",
   "execution_count": 4,
   "id": "0eeb77bd",
   "metadata": {},
   "outputs": [],
   "source": [
    "import jax.numpy as jnp\n",
    "from jax import jacfwd"
   ]
  },
  {
   "cell_type": "code",
   "execution_count": 5,
   "id": "46a120d4",
   "metadata": {},
   "outputs": [],
   "source": [
    "def ground_constraint(x):\n",
    "    q = x[0]\n",
    "    return q - 1.0"
   ]
  },
  {
   "cell_type": "code",
   "execution_count": 12,
   "id": "e6e8ca25",
   "metadata": {},
   "outputs": [
    {
     "name": "stdout",
     "output_type": "stream",
     "text": [
      "[1.]\n"
     ]
    }
   ],
   "source": [
    "q0 = jnp.array([0.0])\n",
    "\n",
    "A = jacfwd(ground_constraint)(q0)\n",
    "print(A)"
   ]
  }
 ],
 "metadata": {
  "kernelspec": {
   "display_name": "hybrid-sys-id",
   "language": "python",
   "name": "python3"
  },
  "language_info": {
   "codemirror_mode": {
    "name": "ipython",
    "version": 3
   },
   "file_extension": ".py",
   "mimetype": "text/x-python",
   "name": "python",
   "nbconvert_exporter": "python",
   "pygments_lexer": "ipython3",
   "version": "3.10.18"
  }
 },
 "nbformat": 4,
 "nbformat_minor": 5
}

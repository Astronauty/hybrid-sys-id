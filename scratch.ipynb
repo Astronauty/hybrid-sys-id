{
 "cells": [
  {
   "cell_type": "code",
   "execution_count": 5,
   "id": "0eeb77bd",
   "metadata": {},
   "outputs": [],
   "source": [
    "# import gymnasium as gym\n",
    "\n",
    "# env = gym.make(\"HalfCheetah-v4\", render_mode=\"human\")\n",
    "# obs, info = env.reset()\n",
    "\n",
    "# for _ in range(1000):\n",
    "#     obs, reward, terminated, truncated, info = env.step(env.action_space.sample())\n",
    "#     if terminated or truncated:\n",
    "#         obs, info = env.reset()\n",
    "\n",
    "# env.close()"
   ]
  },
  {
   "cell_type": "code",
   "execution_count": 8,
   "id": "46a120d4",
   "metadata": {},
   "outputs": [
    {
     "ename": "AttributeError",
     "evalue": "'AntEnv' object has no attribute 'sim'",
     "output_type": "error",
     "traceback": [
      "\u001b[0;31m---------------------------------------------------------------------------\u001b[0m",
      "\u001b[0;31mAttributeError\u001b[0m                            Traceback (most recent call last)",
      "Cell \u001b[0;32mIn[8], line 6\u001b[0m\n\u001b[1;32m      4\u001b[0m env \u001b[38;5;241m=\u001b[39m gym\u001b[38;5;241m.\u001b[39mmake(\u001b[38;5;124m\"\u001b[39m\u001b[38;5;124mAnt-v5\u001b[39m\u001b[38;5;124m\"\u001b[39m)\n\u001b[1;32m      5\u001b[0m obs, _ \u001b[38;5;241m=\u001b[39m env\u001b[38;5;241m.\u001b[39mreset()\n\u001b[0;32m----> 6\u001b[0m sim \u001b[38;5;241m=\u001b[39m \u001b[43menv\u001b[49m\u001b[38;5;241;43m.\u001b[39;49m\u001b[43munwrapped\u001b[49m\u001b[38;5;241;43m.\u001b[39;49m\u001b[43msim\u001b[49m  \u001b[38;5;66;03m# Mujoco sim object\u001b[39;00m\n\u001b[1;32m      8\u001b[0m \u001b[38;5;66;03m# Step a few times to generate contacts\u001b[39;00m\n\u001b[1;32m      9\u001b[0m \u001b[38;5;28;01mfor\u001b[39;00m _ \u001b[38;5;129;01min\u001b[39;00m \u001b[38;5;28mrange\u001b[39m(\u001b[38;5;241m10\u001b[39m):\n",
      "\u001b[0;31mAttributeError\u001b[0m: 'AntEnv' object has no attribute 'sim'"
     ]
    }
   ],
   "source": [
    "import gymnasium as gym\n",
    "import numpy as np\n",
    "\n",
    "env = gym.make(\"Ant-v5\")\n",
    "obs, _ = env.reset()\n",
    "sim = env.unwrapped.sim  # Mujoco sim object\n",
    "\n",
    "# Step a few times to generate contacts\n",
    "for _ in range(10):\n",
    "    action = env.action_space.sample()\n",
    "    obs, reward, terminated, truncated, info = env.step(action)\n",
    "\n",
    "    for i in range(sim.data.ncon):\n",
    "        c = sim.data.contact[i]\n",
    "        pos = np.array(c.pos)\n",
    "        normal = np.array(c.frame[:3]) / (np.linalg.norm(c.frame[:3]) + 1e-8)\n",
    "        print(f\"Contact {i}: geom1={c.geom1}, geom2={c.geom2}, dist={c.dist:.4f}, pos={pos}, normal={normal}\")\n"
   ]
  }
 ],
 "metadata": {
  "kernelspec": {
   "display_name": "hybrid-sys-id",
   "language": "python",
   "name": "python3"
  },
  "language_info": {
   "codemirror_mode": {
    "name": "ipython",
    "version": 3
   },
   "file_extension": ".py",
   "mimetype": "text/x-python",
   "name": "python",
   "nbconvert_exporter": "python",
   "pygments_lexer": "ipython3",
   "version": "3.10.18"
  }
 },
 "nbformat": 4,
 "nbformat_minor": 5
}
